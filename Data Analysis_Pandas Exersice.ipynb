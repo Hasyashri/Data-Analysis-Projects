{
  "metadata": {
    "kernelspec": {
      "name": "python",
      "display_name": "Python (Pyodide)",
      "language": "python"
    },
    "language_info": {
      "codemirror_mode": {
        "name": "python",
        "version": 3
      },
      "file_extension": ".py",
      "mimetype": "text/x-python",
      "name": "python",
      "nbconvert_exporter": "python",
      "pygments_lexer": "ipython3",
      "version": "3.8"
    }
  },
  "nbformat_minor": 4,
  "nbformat": 4,
  "cells": [
    {
      "cell_type": "markdown",
      "source": "# <b>Practicing Pandas Exercise Using Small Dataset. </b>",
      "metadata": {}
    },
    {
      "cell_type": "markdown",
      "source": "# Importing PYHTON Liabraries\n### PANDAS Exersice",
      "metadata": {}
    },
    {
      "cell_type": "code",
      "source": "import pandas as pd",
      "metadata": {
        "trusted": true
      },
      "outputs": [],
      "execution_count": 278
    },
    {
      "cell_type": "markdown",
      "source": "### Created Dictionary for Imaginary Data",
      "metadata": {}
    },
    {
      "cell_type": "markdown",
      "source": "dict1 is a Dictionary and df is a DataFrame which stores data in the pandas.",
      "metadata": {}
    },
    {
      "cell_type": "code",
      "source": "dict1 ={'Name':['Shweta','Neetu','Rina','Vedant','Amit',\n                'Shree','Amy'],\n                'Marks':[98,87,90,89,100,98,92],\n                'Gender':['Female','Female','Female','Male','Male',\n                         'Female','Female']\n               }\ndf=pd.DataFrame(dict1)\ndf",
      "metadata": {
        "trusted": true
      },
      "outputs": [
        {
          "execution_count": 279,
          "output_type": "execute_result",
          "data": {
            "text/plain": "     Name  Marks  Gender\n0  Shweta     98  Female\n1   Neetu     87  Female\n2    Rina     90  Female\n3  Vedant     89    Male\n4    Amit    100    Male\n5   Shree     98  Female\n6     Amy     92  Female",
            "text/html": "<div>\n<style scoped>\n    .dataframe tbody tr th:only-of-type {\n        vertical-align: middle;\n    }\n\n    .dataframe tbody tr th {\n        vertical-align: top;\n    }\n\n    .dataframe thead th {\n        text-align: right;\n    }\n</style>\n<table border=\"1\" class=\"dataframe\">\n  <thead>\n    <tr style=\"text-align: right;\">\n      <th></th>\n      <th>Name</th>\n      <th>Marks</th>\n      <th>Gender</th>\n    </tr>\n  </thead>\n  <tbody>\n    <tr>\n      <th>0</th>\n      <td>Shweta</td>\n      <td>98</td>\n      <td>Female</td>\n    </tr>\n    <tr>\n      <th>1</th>\n      <td>Neetu</td>\n      <td>87</td>\n      <td>Female</td>\n    </tr>\n    <tr>\n      <th>2</th>\n      <td>Rina</td>\n      <td>90</td>\n      <td>Female</td>\n    </tr>\n    <tr>\n      <th>3</th>\n      <td>Vedant</td>\n      <td>89</td>\n      <td>Male</td>\n    </tr>\n    <tr>\n      <th>4</th>\n      <td>Amit</td>\n      <td>100</td>\n      <td>Male</td>\n    </tr>\n    <tr>\n      <th>5</th>\n      <td>Shree</td>\n      <td>98</td>\n      <td>Female</td>\n    </tr>\n    <tr>\n      <th>6</th>\n      <td>Amy</td>\n      <td>92</td>\n      <td>Female</td>\n    </tr>\n  </tbody>\n</table>\n</div>"
          },
          "metadata": {}
        }
      ],
      "execution_count": 279
    },
    {
      "cell_type": "markdown",
      "source": "### <b>1. Display First 3 Rows of the Dataset</b>",
      "metadata": {}
    },
    {
      "cell_type": "code",
      "source": "df.head(3)",
      "metadata": {
        "trusted": true
      },
      "outputs": [
        {
          "execution_count": 280,
          "output_type": "execute_result",
          "data": {
            "text/plain": "     Name  Marks  Gender\n0  Shweta     98  Female\n1   Neetu     87  Female\n2    Rina     90  Female",
            "text/html": "<div>\n<style scoped>\n    .dataframe tbody tr th:only-of-type {\n        vertical-align: middle;\n    }\n\n    .dataframe tbody tr th {\n        vertical-align: top;\n    }\n\n    .dataframe thead th {\n        text-align: right;\n    }\n</style>\n<table border=\"1\" class=\"dataframe\">\n  <thead>\n    <tr style=\"text-align: right;\">\n      <th></th>\n      <th>Name</th>\n      <th>Marks</th>\n      <th>Gender</th>\n    </tr>\n  </thead>\n  <tbody>\n    <tr>\n      <th>0</th>\n      <td>Shweta</td>\n      <td>98</td>\n      <td>Female</td>\n    </tr>\n    <tr>\n      <th>1</th>\n      <td>Neetu</td>\n      <td>87</td>\n      <td>Female</td>\n    </tr>\n    <tr>\n      <th>2</th>\n      <td>Rina</td>\n      <td>90</td>\n      <td>Female</td>\n    </tr>\n  </tbody>\n</table>\n</div>"
          },
          "metadata": {}
        }
      ],
      "execution_count": 280
    },
    {
      "cell_type": "markdown",
      "source": "### <b>2. Display Last 3 Rows of the Dataset</b>",
      "metadata": {}
    },
    {
      "cell_type": "code",
      "source": "df.tail(3)",
      "metadata": {
        "trusted": true
      },
      "outputs": [
        {
          "execution_count": 281,
          "output_type": "execute_result",
          "data": {
            "text/plain": "    Name  Marks  Gender\n4   Amit    100    Male\n5  Shree     98  Female\n6    Amy     92  Female",
            "text/html": "<div>\n<style scoped>\n    .dataframe tbody tr th:only-of-type {\n        vertical-align: middle;\n    }\n\n    .dataframe tbody tr th {\n        vertical-align: top;\n    }\n\n    .dataframe thead th {\n        text-align: right;\n    }\n</style>\n<table border=\"1\" class=\"dataframe\">\n  <thead>\n    <tr style=\"text-align: right;\">\n      <th></th>\n      <th>Name</th>\n      <th>Marks</th>\n      <th>Gender</th>\n    </tr>\n  </thead>\n  <tbody>\n    <tr>\n      <th>4</th>\n      <td>Amit</td>\n      <td>100</td>\n      <td>Male</td>\n    </tr>\n    <tr>\n      <th>5</th>\n      <td>Shree</td>\n      <td>98</td>\n      <td>Female</td>\n    </tr>\n    <tr>\n      <th>6</th>\n      <td>Amy</td>\n      <td>92</td>\n      <td>Female</td>\n    </tr>\n  </tbody>\n</table>\n</div>"
          },
          "metadata": {}
        }
      ],
      "execution_count": 281
    },
    {
      "cell_type": "markdown",
      "source": "### <b>3. Find shape of the Dataset(Find How many Numbers of Rows And Columns in the Dataset)</b>",
      "metadata": {}
    },
    {
      "cell_type": "code",
      "source": "df.shape",
      "metadata": {
        "trusted": true
      },
      "outputs": [
        {
          "execution_count": 282,
          "output_type": "execute_result",
          "data": {
            "text/plain": "(7, 3)"
          },
          "metadata": {}
        }
      ],
      "execution_count": 282
    },
    {
      "cell_type": "markdown",
      "source": "#### Above shape of Dataset Displays in the form of tuple and In above tuple 7 has '0' index number in the tuple and 3 has '1' so If I want to print it then I will use below code.  ",
      "metadata": {}
    },
    {
      "cell_type": "code",
      "source": "print('Number of Rows',df.shape[0])\nprint('Number of Columns',df.shape[1])",
      "metadata": {
        "trusted": true
      },
      "outputs": [
        {
          "name": "stdout",
          "text": "Number of Rows 7\nNumber of Columns 3\n",
          "output_type": "stream"
        }
      ],
      "execution_count": 283
    },
    {
      "cell_type": "markdown",
      "source": "### <b>4. Get all the information About Our Dataset like Number of rows and columns,Datatypes of Each Column and how much Memory Requied by dataset.</b>",
      "metadata": {}
    },
    {
      "cell_type": "code",
      "source": "df.info()",
      "metadata": {
        "trusted": true
      },
      "outputs": [
        {
          "name": "stdout",
          "text": "<class 'pandas.core.frame.DataFrame'>\nRangeIndex: 7 entries, 0 to 6\nData columns (total 3 columns):\n #   Column  Non-Null Count  Dtype \n---  ------  --------------  ----- \n 0   Name    7 non-null      object\n 1   Marks   7 non-null      int64 \n 2   Gender  7 non-null      object\ndtypes: int64(1), object(2)\nmemory usage: 184.0+ bytes\n",
          "output_type": "stream"
        }
      ],
      "execution_count": 284
    },
    {
      "cell_type": "markdown",
      "source": "### <b>5. Check if Null Values present in the Dataset or not. </b>",
      "metadata": {}
    },
    {
      "cell_type": "code",
      "source": "df.isnull().sum(axis=0)",
      "metadata": {
        "trusted": true
      },
      "outputs": [
        {
          "execution_count": 285,
          "output_type": "execute_result",
          "data": {
            "text/plain": "Name      0\nMarks     0\nGender    0\ndtype: int64"
          },
          "metadata": {}
        }
      ],
      "execution_count": 285
    },
    {
      "cell_type": "markdown",
      "source": "### <b>6. Find Overall Statistics Of the Dataframe. </b>",
      "metadata": {}
    },
    {
      "cell_type": "code",
      "source": "df.describe()",
      "metadata": {
        "trusted": true
      },
      "outputs": [
        {
          "execution_count": 286,
          "output_type": "execute_result",
          "data": {
            "text/plain": "            Marks\ncount    7.000000\nmean    93.428571\nstd      5.159365\nmin     87.000000\n25%     89.500000\n50%     92.000000\n75%     98.000000\nmax    100.000000",
            "text/html": "<div>\n<style scoped>\n    .dataframe tbody tr th:only-of-type {\n        vertical-align: middle;\n    }\n\n    .dataframe tbody tr th {\n        vertical-align: top;\n    }\n\n    .dataframe thead th {\n        text-align: right;\n    }\n</style>\n<table border=\"1\" class=\"dataframe\">\n  <thead>\n    <tr style=\"text-align: right;\">\n      <th></th>\n      <th>Marks</th>\n    </tr>\n  </thead>\n  <tbody>\n    <tr>\n      <th>count</th>\n      <td>7.000000</td>\n    </tr>\n    <tr>\n      <th>mean</th>\n      <td>93.428571</td>\n    </tr>\n    <tr>\n      <th>std</th>\n      <td>5.159365</td>\n    </tr>\n    <tr>\n      <th>min</th>\n      <td>87.000000</td>\n    </tr>\n    <tr>\n      <th>25%</th>\n      <td>89.500000</td>\n    </tr>\n    <tr>\n      <th>50%</th>\n      <td>92.000000</td>\n    </tr>\n    <tr>\n      <th>75%</th>\n      <td>98.000000</td>\n    </tr>\n    <tr>\n      <th>max</th>\n      <td>100.000000</td>\n    </tr>\n  </tbody>\n</table>\n</div>"
          },
          "metadata": {}
        }
      ],
      "execution_count": 286
    },
    {
      "cell_type": "markdown",
      "source": "### <b>7. Find Unique Values from Gender Column. </b>",
      "metadata": {}
    },
    {
      "cell_type": "code",
      "source": "df",
      "metadata": {
        "trusted": true
      },
      "outputs": [
        {
          "execution_count": 287,
          "output_type": "execute_result",
          "data": {
            "text/plain": "     Name  Marks  Gender\n0  Shweta     98  Female\n1   Neetu     87  Female\n2    Rina     90  Female\n3  Vedant     89    Male\n4    Amit    100    Male\n5   Shree     98  Female\n6     Amy     92  Female",
            "text/html": "<div>\n<style scoped>\n    .dataframe tbody tr th:only-of-type {\n        vertical-align: middle;\n    }\n\n    .dataframe tbody tr th {\n        vertical-align: top;\n    }\n\n    .dataframe thead th {\n        text-align: right;\n    }\n</style>\n<table border=\"1\" class=\"dataframe\">\n  <thead>\n    <tr style=\"text-align: right;\">\n      <th></th>\n      <th>Name</th>\n      <th>Marks</th>\n      <th>Gender</th>\n    </tr>\n  </thead>\n  <tbody>\n    <tr>\n      <th>0</th>\n      <td>Shweta</td>\n      <td>98</td>\n      <td>Female</td>\n    </tr>\n    <tr>\n      <th>1</th>\n      <td>Neetu</td>\n      <td>87</td>\n      <td>Female</td>\n    </tr>\n    <tr>\n      <th>2</th>\n      <td>Rina</td>\n      <td>90</td>\n      <td>Female</td>\n    </tr>\n    <tr>\n      <th>3</th>\n      <td>Vedant</td>\n      <td>89</td>\n      <td>Male</td>\n    </tr>\n    <tr>\n      <th>4</th>\n      <td>Amit</td>\n      <td>100</td>\n      <td>Male</td>\n    </tr>\n    <tr>\n      <th>5</th>\n      <td>Shree</td>\n      <td>98</td>\n      <td>Female</td>\n    </tr>\n    <tr>\n      <th>6</th>\n      <td>Amy</td>\n      <td>92</td>\n      <td>Female</td>\n    </tr>\n  </tbody>\n</table>\n</div>"
          },
          "metadata": {}
        }
      ],
      "execution_count": 287
    },
    {
      "cell_type": "code",
      "source": "df['Gender'].unique()",
      "metadata": {
        "trusted": true
      },
      "outputs": [
        {
          "execution_count": 288,
          "output_type": "execute_result",
          "data": {
            "text/plain": "array(['Female', 'Male'], dtype=object)"
          },
          "metadata": {}
        }
      ],
      "execution_count": 288
    },
    {
      "cell_type": "markdown",
      "source": "### <b>8. Find the number of Unique Values from Gender Column. </b>",
      "metadata": {}
    },
    {
      "cell_type": "code",
      "source": "df['Gender'].nunique()",
      "metadata": {
        "trusted": true
      },
      "outputs": [
        {
          "execution_count": 289,
          "output_type": "execute_result",
          "data": {
            "text/plain": "2"
          },
          "metadata": {}
        }
      ],
      "execution_count": 289
    },
    {
      "cell_type": "markdown",
      "source": "### <b>9. Display count of Unique Values from Gender Column. </b>",
      "metadata": {}
    },
    {
      "cell_type": "code",
      "source": "df['Gender'].value_counts()",
      "metadata": {
        "trusted": true
      },
      "outputs": [
        {
          "execution_count": 290,
          "output_type": "execute_result",
          "data": {
            "text/plain": "Female    5\nMale      2\nName: Gender, dtype: int64"
          },
          "metadata": {}
        }
      ],
      "execution_count": 290
    },
    {
      "cell_type": "markdown",
      "source": "### <b>10. Find Total Number of students having Marks Between 90 To 100. </b>",
      "metadata": {}
    },
    {
      "cell_type": "code",
      "source": "df['Marks']",
      "metadata": {
        "trusted": true
      },
      "outputs": [
        {
          "execution_count": 291,
          "output_type": "execute_result",
          "data": {
            "text/plain": "0     98\n1     87\n2     90\n3     89\n4    100\n5     98\n6     92\nName: Marks, dtype: int64"
          },
          "metadata": {}
        }
      ],
      "execution_count": 291
    },
    {
      "cell_type": "code",
      "source": "df1=df[(df['Marks']>90) & (df['Marks']<100)]\ndf1",
      "metadata": {
        "trusted": true
      },
      "outputs": [
        {
          "execution_count": 292,
          "output_type": "execute_result",
          "data": {
            "text/plain": "     Name  Marks  Gender\n0  Shweta     98  Female\n5   Shree     98  Female\n6     Amy     92  Female",
            "text/html": "<div>\n<style scoped>\n    .dataframe tbody tr th:only-of-type {\n        vertical-align: middle;\n    }\n\n    .dataframe tbody tr th {\n        vertical-align: top;\n    }\n\n    .dataframe thead th {\n        text-align: right;\n    }\n</style>\n<table border=\"1\" class=\"dataframe\">\n  <thead>\n    <tr style=\"text-align: right;\">\n      <th></th>\n      <th>Name</th>\n      <th>Marks</th>\n      <th>Gender</th>\n    </tr>\n  </thead>\n  <tbody>\n    <tr>\n      <th>0</th>\n      <td>Shweta</td>\n      <td>98</td>\n      <td>Female</td>\n    </tr>\n    <tr>\n      <th>5</th>\n      <td>Shree</td>\n      <td>98</td>\n      <td>Female</td>\n    </tr>\n    <tr>\n      <th>6</th>\n      <td>Amy</td>\n      <td>92</td>\n      <td>Female</td>\n    </tr>\n  </tbody>\n</table>\n</div>"
          },
          "metadata": {}
        }
      ],
      "execution_count": 292
    },
    {
      "cell_type": "code",
      "source": "len(df1)",
      "metadata": {
        "trusted": true
      },
      "outputs": [
        {
          "execution_count": 293,
          "output_type": "execute_result",
          "data": {
            "text/plain": "3"
          },
          "metadata": {}
        }
      ],
      "execution_count": 293
    },
    {
      "cell_type": "markdown",
      "source": "#### IF I use between method then it will include 90 and 100 as well.",
      "metadata": {}
    },
    {
      "cell_type": "code",
      "source": "df2=df[df['Marks'].between(90,100)]\ndf2",
      "metadata": {
        "trusted": true
      },
      "outputs": [
        {
          "execution_count": 294,
          "output_type": "execute_result",
          "data": {
            "text/plain": "     Name  Marks  Gender\n0  Shweta     98  Female\n2    Rina     90  Female\n4    Amit    100    Male\n5   Shree     98  Female\n6     Amy     92  Female",
            "text/html": "<div>\n<style scoped>\n    .dataframe tbody tr th:only-of-type {\n        vertical-align: middle;\n    }\n\n    .dataframe tbody tr th {\n        vertical-align: top;\n    }\n\n    .dataframe thead th {\n        text-align: right;\n    }\n</style>\n<table border=\"1\" class=\"dataframe\">\n  <thead>\n    <tr style=\"text-align: right;\">\n      <th></th>\n      <th>Name</th>\n      <th>Marks</th>\n      <th>Gender</th>\n    </tr>\n  </thead>\n  <tbody>\n    <tr>\n      <th>0</th>\n      <td>Shweta</td>\n      <td>98</td>\n      <td>Female</td>\n    </tr>\n    <tr>\n      <th>2</th>\n      <td>Rina</td>\n      <td>90</td>\n      <td>Female</td>\n    </tr>\n    <tr>\n      <th>4</th>\n      <td>Amit</td>\n      <td>100</td>\n      <td>Male</td>\n    </tr>\n    <tr>\n      <th>5</th>\n      <td>Shree</td>\n      <td>98</td>\n      <td>Female</td>\n    </tr>\n    <tr>\n      <th>6</th>\n      <td>Amy</td>\n      <td>92</td>\n      <td>Female</td>\n    </tr>\n  </tbody>\n</table>\n</div>"
          },
          "metadata": {}
        }
      ],
      "execution_count": 294
    },
    {
      "cell_type": "code",
      "source": "len(df2)",
      "metadata": {
        "trusted": true
      },
      "outputs": [
        {
          "execution_count": 295,
          "output_type": "execute_result",
          "data": {
            "text/plain": "5"
          },
          "metadata": {}
        }
      ],
      "execution_count": 295
    },
    {
      "cell_type": "markdown",
      "source": "### <b>11. Find Average Marks </b>",
      "metadata": {}
    },
    {
      "cell_type": "code",
      "source": "df",
      "metadata": {
        "trusted": true
      },
      "outputs": [
        {
          "execution_count": 296,
          "output_type": "execute_result",
          "data": {
            "text/plain": "     Name  Marks  Gender\n0  Shweta     98  Female\n1   Neetu     87  Female\n2    Rina     90  Female\n3  Vedant     89    Male\n4    Amit    100    Male\n5   Shree     98  Female\n6     Amy     92  Female",
            "text/html": "<div>\n<style scoped>\n    .dataframe tbody tr th:only-of-type {\n        vertical-align: middle;\n    }\n\n    .dataframe tbody tr th {\n        vertical-align: top;\n    }\n\n    .dataframe thead th {\n        text-align: right;\n    }\n</style>\n<table border=\"1\" class=\"dataframe\">\n  <thead>\n    <tr style=\"text-align: right;\">\n      <th></th>\n      <th>Name</th>\n      <th>Marks</th>\n      <th>Gender</th>\n    </tr>\n  </thead>\n  <tbody>\n    <tr>\n      <th>0</th>\n      <td>Shweta</td>\n      <td>98</td>\n      <td>Female</td>\n    </tr>\n    <tr>\n      <th>1</th>\n      <td>Neetu</td>\n      <td>87</td>\n      <td>Female</td>\n    </tr>\n    <tr>\n      <th>2</th>\n      <td>Rina</td>\n      <td>90</td>\n      <td>Female</td>\n    </tr>\n    <tr>\n      <th>3</th>\n      <td>Vedant</td>\n      <td>89</td>\n      <td>Male</td>\n    </tr>\n    <tr>\n      <th>4</th>\n      <td>Amit</td>\n      <td>100</td>\n      <td>Male</td>\n    </tr>\n    <tr>\n      <th>5</th>\n      <td>Shree</td>\n      <td>98</td>\n      <td>Female</td>\n    </tr>\n    <tr>\n      <th>6</th>\n      <td>Amy</td>\n      <td>92</td>\n      <td>Female</td>\n    </tr>\n  </tbody>\n</table>\n</div>"
          },
          "metadata": {}
        }
      ],
      "execution_count": 296
    },
    {
      "cell_type": "code",
      "source": "df['Marks'].mean()",
      "metadata": {
        "trusted": true
      },
      "outputs": [
        {
          "execution_count": 297,
          "output_type": "execute_result",
          "data": {
            "text/plain": "93.42857142857143"
          },
          "metadata": {}
        }
      ],
      "execution_count": 297
    },
    {
      "cell_type": "markdown",
      "source": "### <b>12. Find a Name who has Highest marks </b>",
      "metadata": {}
    },
    {
      "cell_type": "code",
      "source": "df",
      "metadata": {
        "trusted": true
      },
      "outputs": [
        {
          "execution_count": 298,
          "output_type": "execute_result",
          "data": {
            "text/plain": "     Name  Marks  Gender\n0  Shweta     98  Female\n1   Neetu     87  Female\n2    Rina     90  Female\n3  Vedant     89    Male\n4    Amit    100    Male\n5   Shree     98  Female\n6     Amy     92  Female",
            "text/html": "<div>\n<style scoped>\n    .dataframe tbody tr th:only-of-type {\n        vertical-align: middle;\n    }\n\n    .dataframe tbody tr th {\n        vertical-align: top;\n    }\n\n    .dataframe thead th {\n        text-align: right;\n    }\n</style>\n<table border=\"1\" class=\"dataframe\">\n  <thead>\n    <tr style=\"text-align: right;\">\n      <th></th>\n      <th>Name</th>\n      <th>Marks</th>\n      <th>Gender</th>\n    </tr>\n  </thead>\n  <tbody>\n    <tr>\n      <th>0</th>\n      <td>Shweta</td>\n      <td>98</td>\n      <td>Female</td>\n    </tr>\n    <tr>\n      <th>1</th>\n      <td>Neetu</td>\n      <td>87</td>\n      <td>Female</td>\n    </tr>\n    <tr>\n      <th>2</th>\n      <td>Rina</td>\n      <td>90</td>\n      <td>Female</td>\n    </tr>\n    <tr>\n      <th>3</th>\n      <td>Vedant</td>\n      <td>89</td>\n      <td>Male</td>\n    </tr>\n    <tr>\n      <th>4</th>\n      <td>Amit</td>\n      <td>100</td>\n      <td>Male</td>\n    </tr>\n    <tr>\n      <th>5</th>\n      <td>Shree</td>\n      <td>98</td>\n      <td>Female</td>\n    </tr>\n    <tr>\n      <th>6</th>\n      <td>Amy</td>\n      <td>92</td>\n      <td>Female</td>\n    </tr>\n  </tbody>\n</table>\n</div>"
          },
          "metadata": {}
        }
      ],
      "execution_count": 298
    },
    {
      "cell_type": "code",
      "source": "#Finding Maximum marks\ndf['Marks'].max()",
      "metadata": {
        "trusted": true
      },
      "outputs": [
        {
          "execution_count": 299,
          "output_type": "execute_result",
          "data": {
            "text/plain": "100"
          },
          "metadata": {}
        }
      ],
      "execution_count": 299
    },
    {
      "cell_type": "code",
      "source": "#finding name with maximum marks\ndf[df['Marks']==df['Marks'].max()]['Name'].values[0]",
      "metadata": {
        "trusted": true
      },
      "outputs": [
        {
          "execution_count": 300,
          "output_type": "execute_result",
          "data": {
            "text/plain": "'Amit'"
          },
          "metadata": {}
        }
      ],
      "execution_count": 300
    },
    {
      "cell_type": "markdown",
      "source": "### <b>13. Find a Name who has Lowest marks </b>",
      "metadata": {}
    },
    {
      "cell_type": "code",
      "source": "#Finding Minimum marks\ndf['Marks'].min()",
      "metadata": {
        "trusted": true
      },
      "outputs": [
        {
          "execution_count": 301,
          "output_type": "execute_result",
          "data": {
            "text/plain": "87"
          },
          "metadata": {}
        }
      ],
      "execution_count": 301
    },
    {
      "cell_type": "code",
      "source": "#finding name with minimum marks\ndf[df['Marks']==df['Marks'].min()]['Name'].values[0]",
      "metadata": {
        "trusted": true
      },
      "outputs": [
        {
          "execution_count": 302,
          "output_type": "execute_result",
          "data": {
            "text/plain": "'Neetu'"
          },
          "metadata": {}
        }
      ],
      "execution_count": 302
    },
    {
      "cell_type": "markdown",
      "source": "### <b>14. Apply Method </b>",
      "metadata": {}
    },
    {
      "cell_type": "code",
      "source": "# Userdefined Function means function created by the user\ndef marks(x):\n    return x/2",
      "metadata": {
        "trusted": true
      },
      "outputs": [],
      "execution_count": 303
    },
    {
      "cell_type": "code",
      "source": "#Apply above function on the Marks Colunm in the dataset we use apply() method\ndf['Marks'].apply(marks)",
      "metadata": {
        "trusted": true
      },
      "outputs": [
        {
          "execution_count": 304,
          "output_type": "execute_result",
          "data": {
            "text/plain": "0    49.0\n1    43.5\n2    45.0\n3    44.5\n4    50.0\n5    49.0\n6    46.0\nName: Marks, dtype: float64"
          },
          "metadata": {}
        }
      ],
      "execution_count": 304
    },
    {
      "cell_type": "code",
      "source": "# Add New colunm name Half_marks\ndf['Half_marks']=df['Marks'].apply(marks)",
      "metadata": {
        "trusted": true
      },
      "outputs": [],
      "execution_count": 305
    },
    {
      "cell_type": "code",
      "source": "df",
      "metadata": {
        "trusted": true
      },
      "outputs": [
        {
          "execution_count": 306,
          "output_type": "execute_result",
          "data": {
            "text/plain": "     Name  Marks  Gender  Half_marks\n0  Shweta     98  Female        49.0\n1   Neetu     87  Female        43.5\n2    Rina     90  Female        45.0\n3  Vedant     89    Male        44.5\n4    Amit    100    Male        50.0\n5   Shree     98  Female        49.0\n6     Amy     92  Female        46.0",
            "text/html": "<div>\n<style scoped>\n    .dataframe tbody tr th:only-of-type {\n        vertical-align: middle;\n    }\n\n    .dataframe tbody tr th {\n        vertical-align: top;\n    }\n\n    .dataframe thead th {\n        text-align: right;\n    }\n</style>\n<table border=\"1\" class=\"dataframe\">\n  <thead>\n    <tr style=\"text-align: right;\">\n      <th></th>\n      <th>Name</th>\n      <th>Marks</th>\n      <th>Gender</th>\n      <th>Half_marks</th>\n    </tr>\n  </thead>\n  <tbody>\n    <tr>\n      <th>0</th>\n      <td>Shweta</td>\n      <td>98</td>\n      <td>Female</td>\n      <td>49.0</td>\n    </tr>\n    <tr>\n      <th>1</th>\n      <td>Neetu</td>\n      <td>87</td>\n      <td>Female</td>\n      <td>43.5</td>\n    </tr>\n    <tr>\n      <th>2</th>\n      <td>Rina</td>\n      <td>90</td>\n      <td>Female</td>\n      <td>45.0</td>\n    </tr>\n    <tr>\n      <th>3</th>\n      <td>Vedant</td>\n      <td>89</td>\n      <td>Male</td>\n      <td>44.5</td>\n    </tr>\n    <tr>\n      <th>4</th>\n      <td>Amit</td>\n      <td>100</td>\n      <td>Male</td>\n      <td>50.0</td>\n    </tr>\n    <tr>\n      <th>5</th>\n      <td>Shree</td>\n      <td>98</td>\n      <td>Female</td>\n      <td>49.0</td>\n    </tr>\n    <tr>\n      <th>6</th>\n      <td>Amy</td>\n      <td>92</td>\n      <td>Female</td>\n      <td>46.0</td>\n    </tr>\n  </tbody>\n</table>\n</div>"
          },
          "metadata": {}
        }
      ],
      "execution_count": 306
    },
    {
      "cell_type": "code",
      "source": "# Remove float number in Half_marks column\ndf['Half_marks']=df['Marks'].apply(lambda x:x//2)\ndf",
      "metadata": {
        "trusted": true
      },
      "outputs": [
        {
          "execution_count": 307,
          "output_type": "execute_result",
          "data": {
            "text/plain": "     Name  Marks  Gender  Half_marks\n0  Shweta     98  Female          49\n1   Neetu     87  Female          43\n2    Rina     90  Female          45\n3  Vedant     89    Male          44\n4    Amit    100    Male          50\n5   Shree     98  Female          49\n6     Amy     92  Female          46",
            "text/html": "<div>\n<style scoped>\n    .dataframe tbody tr th:only-of-type {\n        vertical-align: middle;\n    }\n\n    .dataframe tbody tr th {\n        vertical-align: top;\n    }\n\n    .dataframe thead th {\n        text-align: right;\n    }\n</style>\n<table border=\"1\" class=\"dataframe\">\n  <thead>\n    <tr style=\"text-align: right;\">\n      <th></th>\n      <th>Name</th>\n      <th>Marks</th>\n      <th>Gender</th>\n      <th>Half_marks</th>\n    </tr>\n  </thead>\n  <tbody>\n    <tr>\n      <th>0</th>\n      <td>Shweta</td>\n      <td>98</td>\n      <td>Female</td>\n      <td>49</td>\n    </tr>\n    <tr>\n      <th>1</th>\n      <td>Neetu</td>\n      <td>87</td>\n      <td>Female</td>\n      <td>43</td>\n    </tr>\n    <tr>\n      <th>2</th>\n      <td>Rina</td>\n      <td>90</td>\n      <td>Female</td>\n      <td>45</td>\n    </tr>\n    <tr>\n      <th>3</th>\n      <td>Vedant</td>\n      <td>89</td>\n      <td>Male</td>\n      <td>44</td>\n    </tr>\n    <tr>\n      <th>4</th>\n      <td>Amit</td>\n      <td>100</td>\n      <td>Male</td>\n      <td>50</td>\n    </tr>\n    <tr>\n      <th>5</th>\n      <td>Shree</td>\n      <td>98</td>\n      <td>Female</td>\n      <td>49</td>\n    </tr>\n    <tr>\n      <th>6</th>\n      <td>Amy</td>\n      <td>92</td>\n      <td>Female</td>\n      <td>46</td>\n    </tr>\n  </tbody>\n</table>\n</div>"
          },
          "metadata": {}
        }
      ],
      "execution_count": 307
    },
    {
      "cell_type": "code",
      "source": "df['Name'].apply(len)",
      "metadata": {
        "trusted": true
      },
      "outputs": [
        {
          "execution_count": 308,
          "output_type": "execute_result",
          "data": {
            "text/plain": "0    6\n1    5\n2    4\n3    6\n4    4\n5    5\n6    3\nName: Name, dtype: int64"
          },
          "metadata": {}
        }
      ],
      "execution_count": 308
    },
    {
      "cell_type": "markdown",
      "source": "### <b>15. Map Function </b>",
      "metadata": {}
    },
    {
      "cell_type": "code",
      "source": "df",
      "metadata": {
        "trusted": true
      },
      "outputs": [
        {
          "execution_count": 309,
          "output_type": "execute_result",
          "data": {
            "text/plain": "     Name  Marks  Gender  Half_marks\n0  Shweta     98  Female          49\n1   Neetu     87  Female          43\n2    Rina     90  Female          45\n3  Vedant     89    Male          44\n4    Amit    100    Male          50\n5   Shree     98  Female          49\n6     Amy     92  Female          46",
            "text/html": "<div>\n<style scoped>\n    .dataframe tbody tr th:only-of-type {\n        vertical-align: middle;\n    }\n\n    .dataframe tbody tr th {\n        vertical-align: top;\n    }\n\n    .dataframe thead th {\n        text-align: right;\n    }\n</style>\n<table border=\"1\" class=\"dataframe\">\n  <thead>\n    <tr style=\"text-align: right;\">\n      <th></th>\n      <th>Name</th>\n      <th>Marks</th>\n      <th>Gender</th>\n      <th>Half_marks</th>\n    </tr>\n  </thead>\n  <tbody>\n    <tr>\n      <th>0</th>\n      <td>Shweta</td>\n      <td>98</td>\n      <td>Female</td>\n      <td>49</td>\n    </tr>\n    <tr>\n      <th>1</th>\n      <td>Neetu</td>\n      <td>87</td>\n      <td>Female</td>\n      <td>43</td>\n    </tr>\n    <tr>\n      <th>2</th>\n      <td>Rina</td>\n      <td>90</td>\n      <td>Female</td>\n      <td>45</td>\n    </tr>\n    <tr>\n      <th>3</th>\n      <td>Vedant</td>\n      <td>89</td>\n      <td>Male</td>\n      <td>44</td>\n    </tr>\n    <tr>\n      <th>4</th>\n      <td>Amit</td>\n      <td>100</td>\n      <td>Male</td>\n      <td>50</td>\n    </tr>\n    <tr>\n      <th>5</th>\n      <td>Shree</td>\n      <td>98</td>\n      <td>Female</td>\n      <td>49</td>\n    </tr>\n    <tr>\n      <th>6</th>\n      <td>Amy</td>\n      <td>92</td>\n      <td>Female</td>\n      <td>46</td>\n    </tr>\n  </tbody>\n</table>\n</div>"
          },
          "metadata": {}
        }
      ],
      "execution_count": 309
    },
    {
      "cell_type": "code",
      "source": "df['Male_female']=df['Gender'].map({'Male':0,'Female':1})\ndf",
      "metadata": {
        "trusted": true
      },
      "outputs": [
        {
          "execution_count": 310,
          "output_type": "execute_result",
          "data": {
            "text/plain": "     Name  Marks  Gender  Half_marks  Male_female\n0  Shweta     98  Female          49            1\n1   Neetu     87  Female          43            1\n2    Rina     90  Female          45            1\n3  Vedant     89    Male          44            0\n4    Amit    100    Male          50            0\n5   Shree     98  Female          49            1\n6     Amy     92  Female          46            1",
            "text/html": "<div>\n<style scoped>\n    .dataframe tbody tr th:only-of-type {\n        vertical-align: middle;\n    }\n\n    .dataframe tbody tr th {\n        vertical-align: top;\n    }\n\n    .dataframe thead th {\n        text-align: right;\n    }\n</style>\n<table border=\"1\" class=\"dataframe\">\n  <thead>\n    <tr style=\"text-align: right;\">\n      <th></th>\n      <th>Name</th>\n      <th>Marks</th>\n      <th>Gender</th>\n      <th>Half_marks</th>\n      <th>Male_female</th>\n    </tr>\n  </thead>\n  <tbody>\n    <tr>\n      <th>0</th>\n      <td>Shweta</td>\n      <td>98</td>\n      <td>Female</td>\n      <td>49</td>\n      <td>1</td>\n    </tr>\n    <tr>\n      <th>1</th>\n      <td>Neetu</td>\n      <td>87</td>\n      <td>Female</td>\n      <td>43</td>\n      <td>1</td>\n    </tr>\n    <tr>\n      <th>2</th>\n      <td>Rina</td>\n      <td>90</td>\n      <td>Female</td>\n      <td>45</td>\n      <td>1</td>\n    </tr>\n    <tr>\n      <th>3</th>\n      <td>Vedant</td>\n      <td>89</td>\n      <td>Male</td>\n      <td>44</td>\n      <td>0</td>\n    </tr>\n    <tr>\n      <th>4</th>\n      <td>Amit</td>\n      <td>100</td>\n      <td>Male</td>\n      <td>50</td>\n      <td>0</td>\n    </tr>\n    <tr>\n      <th>5</th>\n      <td>Shree</td>\n      <td>98</td>\n      <td>Female</td>\n      <td>49</td>\n      <td>1</td>\n    </tr>\n    <tr>\n      <th>6</th>\n      <td>Amy</td>\n      <td>92</td>\n      <td>Female</td>\n      <td>46</td>\n      <td>1</td>\n    </tr>\n  </tbody>\n</table>\n</div>"
          },
          "metadata": {}
        }
      ],
      "execution_count": 310
    },
    {
      "cell_type": "markdown",
      "source": "### <b>16. Drop the unnecessary columns </b>",
      "metadata": {}
    },
    {
      "cell_type": "code",
      "source": "df",
      "metadata": {
        "trusted": true
      },
      "outputs": [
        {
          "execution_count": 311,
          "output_type": "execute_result",
          "data": {
            "text/plain": "     Name  Marks  Gender  Half_marks  Male_female\n0  Shweta     98  Female          49            1\n1   Neetu     87  Female          43            1\n2    Rina     90  Female          45            1\n3  Vedant     89    Male          44            0\n4    Amit    100    Male          50            0\n5   Shree     98  Female          49            1\n6     Amy     92  Female          46            1",
            "text/html": "<div>\n<style scoped>\n    .dataframe tbody tr th:only-of-type {\n        vertical-align: middle;\n    }\n\n    .dataframe tbody tr th {\n        vertical-align: top;\n    }\n\n    .dataframe thead th {\n        text-align: right;\n    }\n</style>\n<table border=\"1\" class=\"dataframe\">\n  <thead>\n    <tr style=\"text-align: right;\">\n      <th></th>\n      <th>Name</th>\n      <th>Marks</th>\n      <th>Gender</th>\n      <th>Half_marks</th>\n      <th>Male_female</th>\n    </tr>\n  </thead>\n  <tbody>\n    <tr>\n      <th>0</th>\n      <td>Shweta</td>\n      <td>98</td>\n      <td>Female</td>\n      <td>49</td>\n      <td>1</td>\n    </tr>\n    <tr>\n      <th>1</th>\n      <td>Neetu</td>\n      <td>87</td>\n      <td>Female</td>\n      <td>43</td>\n      <td>1</td>\n    </tr>\n    <tr>\n      <th>2</th>\n      <td>Rina</td>\n      <td>90</td>\n      <td>Female</td>\n      <td>45</td>\n      <td>1</td>\n    </tr>\n    <tr>\n      <th>3</th>\n      <td>Vedant</td>\n      <td>89</td>\n      <td>Male</td>\n      <td>44</td>\n      <td>0</td>\n    </tr>\n    <tr>\n      <th>4</th>\n      <td>Amit</td>\n      <td>100</td>\n      <td>Male</td>\n      <td>50</td>\n      <td>0</td>\n    </tr>\n    <tr>\n      <th>5</th>\n      <td>Shree</td>\n      <td>98</td>\n      <td>Female</td>\n      <td>49</td>\n      <td>1</td>\n    </tr>\n    <tr>\n      <th>6</th>\n      <td>Amy</td>\n      <td>92</td>\n      <td>Female</td>\n      <td>46</td>\n      <td>1</td>\n    </tr>\n  </tbody>\n</table>\n</div>"
          },
          "metadata": {}
        }
      ],
      "execution_count": 311
    },
    {
      "cell_type": "code",
      "source": "#if only want to one column then \ndf.drop('Male_female',axis=1)",
      "metadata": {
        "trusted": true
      },
      "outputs": [
        {
          "execution_count": 312,
          "output_type": "execute_result",
          "data": {
            "text/plain": "     Name  Marks  Gender  Half_marks\n0  Shweta     98  Female          49\n1   Neetu     87  Female          43\n2    Rina     90  Female          45\n3  Vedant     89    Male          44\n4    Amit    100    Male          50\n5   Shree     98  Female          49\n6     Amy     92  Female          46",
            "text/html": "<div>\n<style scoped>\n    .dataframe tbody tr th:only-of-type {\n        vertical-align: middle;\n    }\n\n    .dataframe tbody tr th {\n        vertical-align: top;\n    }\n\n    .dataframe thead th {\n        text-align: right;\n    }\n</style>\n<table border=\"1\" class=\"dataframe\">\n  <thead>\n    <tr style=\"text-align: right;\">\n      <th></th>\n      <th>Name</th>\n      <th>Marks</th>\n      <th>Gender</th>\n      <th>Half_marks</th>\n    </tr>\n  </thead>\n  <tbody>\n    <tr>\n      <th>0</th>\n      <td>Shweta</td>\n      <td>98</td>\n      <td>Female</td>\n      <td>49</td>\n    </tr>\n    <tr>\n      <th>1</th>\n      <td>Neetu</td>\n      <td>87</td>\n      <td>Female</td>\n      <td>43</td>\n    </tr>\n    <tr>\n      <th>2</th>\n      <td>Rina</td>\n      <td>90</td>\n      <td>Female</td>\n      <td>45</td>\n    </tr>\n    <tr>\n      <th>3</th>\n      <td>Vedant</td>\n      <td>89</td>\n      <td>Male</td>\n      <td>44</td>\n    </tr>\n    <tr>\n      <th>4</th>\n      <td>Amit</td>\n      <td>100</td>\n      <td>Male</td>\n      <td>50</td>\n    </tr>\n    <tr>\n      <th>5</th>\n      <td>Shree</td>\n      <td>98</td>\n      <td>Female</td>\n      <td>49</td>\n    </tr>\n    <tr>\n      <th>6</th>\n      <td>Amy</td>\n      <td>92</td>\n      <td>Female</td>\n      <td>46</td>\n    </tr>\n  </tbody>\n</table>\n</div>"
          },
          "metadata": {}
        }
      ],
      "execution_count": 312
    },
    {
      "cell_type": "code",
      "source": "#I want to drop all unnecessary columns\ndf.drop(['Male_female','Half_marks'],axis=1)",
      "metadata": {
        "trusted": true
      },
      "outputs": [
        {
          "execution_count": 313,
          "output_type": "execute_result",
          "data": {
            "text/plain": "     Name  Marks  Gender\n0  Shweta     98  Female\n1   Neetu     87  Female\n2    Rina     90  Female\n3  Vedant     89    Male\n4    Amit    100    Male\n5   Shree     98  Female\n6     Amy     92  Female",
            "text/html": "<div>\n<style scoped>\n    .dataframe tbody tr th:only-of-type {\n        vertical-align: middle;\n    }\n\n    .dataframe tbody tr th {\n        vertical-align: top;\n    }\n\n    .dataframe thead th {\n        text-align: right;\n    }\n</style>\n<table border=\"1\" class=\"dataframe\">\n  <thead>\n    <tr style=\"text-align: right;\">\n      <th></th>\n      <th>Name</th>\n      <th>Marks</th>\n      <th>Gender</th>\n    </tr>\n  </thead>\n  <tbody>\n    <tr>\n      <th>0</th>\n      <td>Shweta</td>\n      <td>98</td>\n      <td>Female</td>\n    </tr>\n    <tr>\n      <th>1</th>\n      <td>Neetu</td>\n      <td>87</td>\n      <td>Female</td>\n    </tr>\n    <tr>\n      <th>2</th>\n      <td>Rina</td>\n      <td>90</td>\n      <td>Female</td>\n    </tr>\n    <tr>\n      <th>3</th>\n      <td>Vedant</td>\n      <td>89</td>\n      <td>Male</td>\n    </tr>\n    <tr>\n      <th>4</th>\n      <td>Amit</td>\n      <td>100</td>\n      <td>Male</td>\n    </tr>\n    <tr>\n      <th>5</th>\n      <td>Shree</td>\n      <td>98</td>\n      <td>Female</td>\n    </tr>\n    <tr>\n      <th>6</th>\n      <td>Amy</td>\n      <td>92</td>\n      <td>Female</td>\n    </tr>\n  </tbody>\n</table>\n</div>"
          },
          "metadata": {}
        }
      ],
      "execution_count": 313
    },
    {
      "cell_type": "code",
      "source": "df",
      "metadata": {
        "trusted": true
      },
      "outputs": [
        {
          "execution_count": 314,
          "output_type": "execute_result",
          "data": {
            "text/plain": "     Name  Marks  Gender  Half_marks  Male_female\n0  Shweta     98  Female          49            1\n1   Neetu     87  Female          43            1\n2    Rina     90  Female          45            1\n3  Vedant     89    Male          44            0\n4    Amit    100    Male          50            0\n5   Shree     98  Female          49            1\n6     Amy     92  Female          46            1",
            "text/html": "<div>\n<style scoped>\n    .dataframe tbody tr th:only-of-type {\n        vertical-align: middle;\n    }\n\n    .dataframe tbody tr th {\n        vertical-align: top;\n    }\n\n    .dataframe thead th {\n        text-align: right;\n    }\n</style>\n<table border=\"1\" class=\"dataframe\">\n  <thead>\n    <tr style=\"text-align: right;\">\n      <th></th>\n      <th>Name</th>\n      <th>Marks</th>\n      <th>Gender</th>\n      <th>Half_marks</th>\n      <th>Male_female</th>\n    </tr>\n  </thead>\n  <tbody>\n    <tr>\n      <th>0</th>\n      <td>Shweta</td>\n      <td>98</td>\n      <td>Female</td>\n      <td>49</td>\n      <td>1</td>\n    </tr>\n    <tr>\n      <th>1</th>\n      <td>Neetu</td>\n      <td>87</td>\n      <td>Female</td>\n      <td>43</td>\n      <td>1</td>\n    </tr>\n    <tr>\n      <th>2</th>\n      <td>Rina</td>\n      <td>90</td>\n      <td>Female</td>\n      <td>45</td>\n      <td>1</td>\n    </tr>\n    <tr>\n      <th>3</th>\n      <td>Vedant</td>\n      <td>89</td>\n      <td>Male</td>\n      <td>44</td>\n      <td>0</td>\n    </tr>\n    <tr>\n      <th>4</th>\n      <td>Amit</td>\n      <td>100</td>\n      <td>Male</td>\n      <td>50</td>\n      <td>0</td>\n    </tr>\n    <tr>\n      <th>5</th>\n      <td>Shree</td>\n      <td>98</td>\n      <td>Female</td>\n      <td>49</td>\n      <td>1</td>\n    </tr>\n    <tr>\n      <th>6</th>\n      <td>Amy</td>\n      <td>92</td>\n      <td>Female</td>\n      <td>46</td>\n      <td>1</td>\n    </tr>\n  </tbody>\n</table>\n</div>"
          },
          "metadata": {}
        }
      ],
      "execution_count": 314
    },
    {
      "cell_type": "code",
      "source": "# we want to modify original dataframe then\ndf.drop(['Male_female','Half_marks'],axis=1,inplace=True)",
      "metadata": {
        "trusted": true
      },
      "outputs": [],
      "execution_count": 315
    },
    {
      "cell_type": "code",
      "source": "df",
      "metadata": {
        "trusted": true
      },
      "outputs": [
        {
          "execution_count": 316,
          "output_type": "execute_result",
          "data": {
            "text/plain": "     Name  Marks  Gender\n0  Shweta     98  Female\n1   Neetu     87  Female\n2    Rina     90  Female\n3  Vedant     89    Male\n4    Amit    100    Male\n5   Shree     98  Female\n6     Amy     92  Female",
            "text/html": "<div>\n<style scoped>\n    .dataframe tbody tr th:only-of-type {\n        vertical-align: middle;\n    }\n\n    .dataframe tbody tr th {\n        vertical-align: top;\n    }\n\n    .dataframe thead th {\n        text-align: right;\n    }\n</style>\n<table border=\"1\" class=\"dataframe\">\n  <thead>\n    <tr style=\"text-align: right;\">\n      <th></th>\n      <th>Name</th>\n      <th>Marks</th>\n      <th>Gender</th>\n    </tr>\n  </thead>\n  <tbody>\n    <tr>\n      <th>0</th>\n      <td>Shweta</td>\n      <td>98</td>\n      <td>Female</td>\n    </tr>\n    <tr>\n      <th>1</th>\n      <td>Neetu</td>\n      <td>87</td>\n      <td>Female</td>\n    </tr>\n    <tr>\n      <th>2</th>\n      <td>Rina</td>\n      <td>90</td>\n      <td>Female</td>\n    </tr>\n    <tr>\n      <th>3</th>\n      <td>Vedant</td>\n      <td>89</td>\n      <td>Male</td>\n    </tr>\n    <tr>\n      <th>4</th>\n      <td>Amit</td>\n      <td>100</td>\n      <td>Male</td>\n    </tr>\n    <tr>\n      <th>5</th>\n      <td>Shree</td>\n      <td>98</td>\n      <td>Female</td>\n    </tr>\n    <tr>\n      <th>6</th>\n      <td>Amy</td>\n      <td>92</td>\n      <td>Female</td>\n    </tr>\n  </tbody>\n</table>\n</div>"
          },
          "metadata": {}
        }
      ],
      "execution_count": 316
    },
    {
      "cell_type": "markdown",
      "source": "### <b>17. Print Name of Columns </b>",
      "metadata": {}
    },
    {
      "cell_type": "code",
      "source": "df.columns",
      "metadata": {
        "trusted": true
      },
      "outputs": [
        {
          "execution_count": 317,
          "output_type": "execute_result",
          "data": {
            "text/plain": "Index(['Name', 'Marks', 'Gender'], dtype='object')"
          },
          "metadata": {}
        }
      ],
      "execution_count": 317
    },
    {
      "cell_type": "markdown",
      "source": "### <b>18. Sort The Dataframe As per the Marks Column </b>",
      "metadata": {}
    },
    {
      "cell_type": "code",
      "source": "df",
      "metadata": {
        "trusted": true
      },
      "outputs": [
        {
          "execution_count": 318,
          "output_type": "execute_result",
          "data": {
            "text/plain": "     Name  Marks  Gender\n0  Shweta     98  Female\n1   Neetu     87  Female\n2    Rina     90  Female\n3  Vedant     89    Male\n4    Amit    100    Male\n5   Shree     98  Female\n6     Amy     92  Female",
            "text/html": "<div>\n<style scoped>\n    .dataframe tbody tr th:only-of-type {\n        vertical-align: middle;\n    }\n\n    .dataframe tbody tr th {\n        vertical-align: top;\n    }\n\n    .dataframe thead th {\n        text-align: right;\n    }\n</style>\n<table border=\"1\" class=\"dataframe\">\n  <thead>\n    <tr style=\"text-align: right;\">\n      <th></th>\n      <th>Name</th>\n      <th>Marks</th>\n      <th>Gender</th>\n    </tr>\n  </thead>\n  <tbody>\n    <tr>\n      <th>0</th>\n      <td>Shweta</td>\n      <td>98</td>\n      <td>Female</td>\n    </tr>\n    <tr>\n      <th>1</th>\n      <td>Neetu</td>\n      <td>87</td>\n      <td>Female</td>\n    </tr>\n    <tr>\n      <th>2</th>\n      <td>Rina</td>\n      <td>90</td>\n      <td>Female</td>\n    </tr>\n    <tr>\n      <th>3</th>\n      <td>Vedant</td>\n      <td>89</td>\n      <td>Male</td>\n    </tr>\n    <tr>\n      <th>4</th>\n      <td>Amit</td>\n      <td>100</td>\n      <td>Male</td>\n    </tr>\n    <tr>\n      <th>5</th>\n      <td>Shree</td>\n      <td>98</td>\n      <td>Female</td>\n    </tr>\n    <tr>\n      <th>6</th>\n      <td>Amy</td>\n      <td>92</td>\n      <td>Female</td>\n    </tr>\n  </tbody>\n</table>\n</div>"
          },
          "metadata": {}
        }
      ],
      "execution_count": 318
    },
    {
      "cell_type": "code",
      "source": "df.sort_values(by='Marks',ascending=False)\n",
      "metadata": {
        "trusted": true
      },
      "outputs": [
        {
          "execution_count": 319,
          "output_type": "execute_result",
          "data": {
            "text/plain": "     Name  Marks  Gender\n4    Amit    100    Male\n0  Shweta     98  Female\n5   Shree     98  Female\n6     Amy     92  Female\n2    Rina     90  Female\n3  Vedant     89    Male\n1   Neetu     87  Female",
            "text/html": "<div>\n<style scoped>\n    .dataframe tbody tr th:only-of-type {\n        vertical-align: middle;\n    }\n\n    .dataframe tbody tr th {\n        vertical-align: top;\n    }\n\n    .dataframe thead th {\n        text-align: right;\n    }\n</style>\n<table border=\"1\" class=\"dataframe\">\n  <thead>\n    <tr style=\"text-align: right;\">\n      <th></th>\n      <th>Name</th>\n      <th>Marks</th>\n      <th>Gender</th>\n    </tr>\n  </thead>\n  <tbody>\n    <tr>\n      <th>4</th>\n      <td>Amit</td>\n      <td>100</td>\n      <td>Male</td>\n    </tr>\n    <tr>\n      <th>0</th>\n      <td>Shweta</td>\n      <td>98</td>\n      <td>Female</td>\n    </tr>\n    <tr>\n      <th>5</th>\n      <td>Shree</td>\n      <td>98</td>\n      <td>Female</td>\n    </tr>\n    <tr>\n      <th>6</th>\n      <td>Amy</td>\n      <td>92</td>\n      <td>Female</td>\n    </tr>\n    <tr>\n      <th>2</th>\n      <td>Rina</td>\n      <td>90</td>\n      <td>Female</td>\n    </tr>\n    <tr>\n      <th>3</th>\n      <td>Vedant</td>\n      <td>89</td>\n      <td>Male</td>\n    </tr>\n    <tr>\n      <th>1</th>\n      <td>Neetu</td>\n      <td>87</td>\n      <td>Female</td>\n    </tr>\n  </tbody>\n</table>\n</div>"
          },
          "metadata": {}
        }
      ],
      "execution_count": 319
    },
    {
      "cell_type": "markdown",
      "source": "### <b>19.Display Name & Marks of the Male Students  </b>",
      "metadata": {}
    },
    {
      "cell_type": "code",
      "source": "df",
      "metadata": {
        "trusted": true
      },
      "outputs": [
        {
          "execution_count": 320,
          "output_type": "execute_result",
          "data": {
            "text/plain": "     Name  Marks  Gender\n0  Shweta     98  Female\n1   Neetu     87  Female\n2    Rina     90  Female\n3  Vedant     89    Male\n4    Amit    100    Male\n5   Shree     98  Female\n6     Amy     92  Female",
            "text/html": "<div>\n<style scoped>\n    .dataframe tbody tr th:only-of-type {\n        vertical-align: middle;\n    }\n\n    .dataframe tbody tr th {\n        vertical-align: top;\n    }\n\n    .dataframe thead th {\n        text-align: right;\n    }\n</style>\n<table border=\"1\" class=\"dataframe\">\n  <thead>\n    <tr style=\"text-align: right;\">\n      <th></th>\n      <th>Name</th>\n      <th>Marks</th>\n      <th>Gender</th>\n    </tr>\n  </thead>\n  <tbody>\n    <tr>\n      <th>0</th>\n      <td>Shweta</td>\n      <td>98</td>\n      <td>Female</td>\n    </tr>\n    <tr>\n      <th>1</th>\n      <td>Neetu</td>\n      <td>87</td>\n      <td>Female</td>\n    </tr>\n    <tr>\n      <th>2</th>\n      <td>Rina</td>\n      <td>90</td>\n      <td>Female</td>\n    </tr>\n    <tr>\n      <th>3</th>\n      <td>Vedant</td>\n      <td>89</td>\n      <td>Male</td>\n    </tr>\n    <tr>\n      <th>4</th>\n      <td>Amit</td>\n      <td>100</td>\n      <td>Male</td>\n    </tr>\n    <tr>\n      <th>5</th>\n      <td>Shree</td>\n      <td>98</td>\n      <td>Female</td>\n    </tr>\n    <tr>\n      <th>6</th>\n      <td>Amy</td>\n      <td>92</td>\n      <td>Female</td>\n    </tr>\n  </tbody>\n</table>\n</div>"
          },
          "metadata": {}
        }
      ],
      "execution_count": 320
    },
    {
      "cell_type": "code",
      "source": "df[df['Gender']=='Female'][['Name','Marks']]",
      "metadata": {
        "trusted": true
      },
      "outputs": [
        {
          "execution_count": 321,
          "output_type": "execute_result",
          "data": {
            "text/plain": "     Name  Marks\n0  Shweta     98\n1   Neetu     87\n2    Rina     90\n5   Shree     98\n6     Amy     92",
            "text/html": "<div>\n<style scoped>\n    .dataframe tbody tr th:only-of-type {\n        vertical-align: middle;\n    }\n\n    .dataframe tbody tr th {\n        vertical-align: top;\n    }\n\n    .dataframe thead th {\n        text-align: right;\n    }\n</style>\n<table border=\"1\" class=\"dataframe\">\n  <thead>\n    <tr style=\"text-align: right;\">\n      <th></th>\n      <th>Name</th>\n      <th>Marks</th>\n    </tr>\n  </thead>\n  <tbody>\n    <tr>\n      <th>0</th>\n      <td>Shweta</td>\n      <td>98</td>\n    </tr>\n    <tr>\n      <th>1</th>\n      <td>Neetu</td>\n      <td>87</td>\n    </tr>\n    <tr>\n      <th>2</th>\n      <td>Rina</td>\n      <td>90</td>\n    </tr>\n    <tr>\n      <th>5</th>\n      <td>Shree</td>\n      <td>98</td>\n    </tr>\n    <tr>\n      <th>6</th>\n      <td>Amy</td>\n      <td>92</td>\n    </tr>\n  </tbody>\n</table>\n</div>"
          },
          "metadata": {}
        }
      ],
      "execution_count": 321
    },
    {
      "cell_type": "code",
      "source": "#Another method to solve above problem here let's do this for male\ndf[df['Gender'].isin(['Male'])][['Name','Marks']]",
      "metadata": {
        "trusted": true
      },
      "outputs": [
        {
          "execution_count": 322,
          "output_type": "execute_result",
          "data": {
            "text/plain": "     Name  Marks\n3  Vedant     89\n4    Amit    100",
            "text/html": "<div>\n<style scoped>\n    .dataframe tbody tr th:only-of-type {\n        vertical-align: middle;\n    }\n\n    .dataframe tbody tr th {\n        vertical-align: top;\n    }\n\n    .dataframe thead th {\n        text-align: right;\n    }\n</style>\n<table border=\"1\" class=\"dataframe\">\n  <thead>\n    <tr style=\"text-align: right;\">\n      <th></th>\n      <th>Name</th>\n      <th>Marks</th>\n    </tr>\n  </thead>\n  <tbody>\n    <tr>\n      <th>3</th>\n      <td>Vedant</td>\n      <td>89</td>\n    </tr>\n    <tr>\n      <th>4</th>\n      <td>Amit</td>\n      <td>100</td>\n    </tr>\n  </tbody>\n</table>\n</div>"
          },
          "metadata": {}
        }
      ],
      "execution_count": 322
    },
    {
      "cell_type": "markdown",
      "source": "# Pandas Exercise Complete",
      "metadata": {}
    },
    {
      "cell_type": "code",
      "source": "",
      "metadata": {
        "trusted": true
      },
      "outputs": [],
      "execution_count": null
    }
  ]
}