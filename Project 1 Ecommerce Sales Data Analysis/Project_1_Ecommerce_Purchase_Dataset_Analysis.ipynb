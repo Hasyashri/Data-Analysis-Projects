{
  "nbformat": 4,
  "nbformat_minor": 0,
  "metadata": {
    "colab": {
      "provenance": []
    },
    "kernelspec": {
      "name": "python3",
      "display_name": "Python 3"
    },
    "language_info": {
      "name": "python"
    }
  },
  "cells": [
    {
      "cell_type": "markdown",
      "source": [
        "#  **Ecommerce Purchase Dataset Analysis**\n",
        "   Introduction to E-commerce Data Analysis\n",
        "\n",
        "In today's digital age, e-commerce has revolutionized the way businesses operate and how consumers interact with products and services. Understanding customer behavior, transaction patterns, and market trends is crucial for businesses to optimize their strategies and enhance customer satisfaction. This project focuses on analyzing an e-commerce dataset to extract valuable insights that can inform business decisions and improve overall performance. Dataset taken from the kaggle link:(https://https://www.kaggle.com/datasets/utkarsharya/ecommerce-purchases)"
      ],
      "metadata": {
        "id": "YBh71TrQxr3U"
      }
    },
    {
      "cell_type": "markdown",
      "source": [
        "#**Step 1: Load and Inspect the Data**"
      ],
      "metadata": {
        "id": "OhZ2LGrJixzh"
      }
    },
    {
      "cell_type": "code",
      "execution_count": 3,
      "metadata": {
        "colab": {
          "base_uri": "https://localhost:8080/",
          "height": 964
        },
        "id": "0NXHqPWMu5tU",
        "outputId": "c2b5b591-ca94-4958-fcd2-e2f485d25783"
      },
      "outputs": [
        {
          "output_type": "execute_result",
          "data": {
            "text/plain": [
              "                                                Address    Lot AM or PM  \\\n",
              "0     16629 Pace Camp Apt. 448\\nAlexisborough, NE 77...  46 in       PM   \n",
              "1     9374 Jasmine Spurs Suite 508\\nSouth John, TN 8...  28 rn       PM   \n",
              "2                      Unit 0065 Box 5052\\nDPO AP 27450  94 vE       PM   \n",
              "3                 7780 Julia Fords\\nNew Stacy, WA 45798  36 vm       PM   \n",
              "4     23012 Munoz Drive Suite 337\\nNew Cynthia, TX 5...  20 IE       AM   \n",
              "...                                                 ...    ...      ...   \n",
              "9995      966 Castaneda Locks\\nWest Juliafurt, CO 96415  92 XI       PM   \n",
              "9996  832 Curtis Dam Suite 785\\nNorth Edwardburgh, T...  41 JY       AM   \n",
              "9997              Unit 4434 Box 6343\\nDPO AE 28026-0283  74 Zh       AM   \n",
              "9998               0096 English Rest\\nRoystad, IA 12457  74 cL       PM   \n",
              "9999     40674 Barrett Stravenue\\nGrimesville, WI 79682  64 Hr       AM   \n",
              "\n",
              "                                           Browser Info  \\\n",
              "0     Opera/9.56.(X11; Linux x86_64; sl-SI) Presto/2...   \n",
              "1     Opera/8.93.(Windows 98; Win 9x 4.90; en-US) Pr...   \n",
              "2     Mozilla/5.0 (compatible; MSIE 9.0; Windows NT ...   \n",
              "3     Mozilla/5.0 (Macintosh; Intel Mac OS X 10_8_0 ...   \n",
              "4     Opera/9.58.(X11; Linux x86_64; it-IT) Presto/2...   \n",
              "...                                                 ...   \n",
              "9995  Mozilla/5.0 (Windows NT 5.1) AppleWebKit/5352 ...   \n",
              "9996  Mozilla/5.0 (compatible; MSIE 9.0; Windows NT ...   \n",
              "9997  Mozilla/5.0 (Macintosh; U; Intel Mac OS X 10_7...   \n",
              "9998  Mozilla/5.0 (Macintosh; Intel Mac OS X 10_8_8;...   \n",
              "9999  Mozilla/5.0 (X11; Linux i686; rv:1.9.5.20) Gec...   \n",
              "\n",
              "                              Company       Credit Card CC Exp Date  \\\n",
              "0                     Martinez-Herman  6011929061123406       02/20   \n",
              "1     Fletcher, Richards and Whitaker  3337758169645356       11/18   \n",
              "2          Simpson, Williams and Pham      675957666125       08/19   \n",
              "3     Williams, Marshall and Buchanan  6011578504430710       02/24   \n",
              "4           Brown, Watson and Andrews  6011456623207998       10/25   \n",
              "...                               ...               ...         ...   \n",
              "9995                    Randall-Sloan   342945015358701       03/22   \n",
              "9996         Hale, Collins and Wilson   210033169205009       07/25   \n",
              "9997                     Anderson Ltd  6011539787356311       05/21   \n",
              "9998                         Cook Inc   180003348082930       11/17   \n",
              "9999                       Greene Inc  4139972901927273       02/19   \n",
              "\n",
              "      CC Security Code                  CC Provider  \\\n",
              "0                  900                 JCB 16 digit   \n",
              "1                  561                   Mastercard   \n",
              "2                  699                 JCB 16 digit   \n",
              "3                  384                     Discover   \n",
              "4                  678  Diners Club / Carte Blanche   \n",
              "...                ...                          ...   \n",
              "9995               838                 JCB 15 digit   \n",
              "9996               207                 JCB 16 digit   \n",
              "9997                 1                VISA 16 digit   \n",
              "9998               987             American Express   \n",
              "9999               302                 JCB 15 digit   \n",
              "\n",
              "                               Email                                     Job  \\\n",
              "0                  pdunlap@yahoo.com  Scientist, product/process development   \n",
              "1                 anthony41@reed.com                       Drilling engineer   \n",
              "2     amymiller@morales-harrison.com                Customer service manager   \n",
              "3        brent16@olson-robinson.info                       Drilling engineer   \n",
              "4        christopherwright@gmail.com                             Fine artist   \n",
              "...                              ...                                     ...   \n",
              "9995          iscott@wade-garner.com                              Printmaker   \n",
              "9996              mary85@hotmail.com                         Energy engineer   \n",
              "9997               tyler16@gmail.com                      Veterinary surgeon   \n",
              "9998         elizabethmoore@reid.net                Local government officer   \n",
              "9999           rachelford@vaughn.com                  Embryologist, clinical   \n",
              "\n",
              "           IP Address Language  Purchase Price  \n",
              "0     149.146.147.205       el           98.14  \n",
              "1        15.160.41.51       fr           70.73  \n",
              "2      132.207.160.22       de            0.95  \n",
              "3        30.250.74.19       es           78.04  \n",
              "4        24.140.33.94       es           77.82  \n",
              "...               ...      ...             ...  \n",
              "9995    29.73.197.114       it           82.21  \n",
              "9996   121.133.168.51       pt           25.63  \n",
              "9997    156.210.0.254       el           83.98  \n",
              "9998     55.78.26.143       es           38.84  \n",
              "9999  176.119.198.199       el           67.59  \n",
              "\n",
              "[10000 rows x 14 columns]"
            ],
            "text/html": [
              "\n",
              "  <div id=\"df-9b924e77-29d6-4d54-8633-7b5415d7a4e3\" class=\"colab-df-container\">\n",
              "    <div>\n",
              "<style scoped>\n",
              "    .dataframe tbody tr th:only-of-type {\n",
              "        vertical-align: middle;\n",
              "    }\n",
              "\n",
              "    .dataframe tbody tr th {\n",
              "        vertical-align: top;\n",
              "    }\n",
              "\n",
              "    .dataframe thead th {\n",
              "        text-align: right;\n",
              "    }\n",
              "</style>\n",
              "<table border=\"1\" class=\"dataframe\">\n",
              "  <thead>\n",
              "    <tr style=\"text-align: right;\">\n",
              "      <th></th>\n",
              "      <th>Address</th>\n",
              "      <th>Lot</th>\n",
              "      <th>AM or PM</th>\n",
              "      <th>Browser Info</th>\n",
              "      <th>Company</th>\n",
              "      <th>Credit Card</th>\n",
              "      <th>CC Exp Date</th>\n",
              "      <th>CC Security Code</th>\n",
              "      <th>CC Provider</th>\n",
              "      <th>Email</th>\n",
              "      <th>Job</th>\n",
              "      <th>IP Address</th>\n",
              "      <th>Language</th>\n",
              "      <th>Purchase Price</th>\n",
              "    </tr>\n",
              "  </thead>\n",
              "  <tbody>\n",
              "    <tr>\n",
              "      <th>0</th>\n",
              "      <td>16629 Pace Camp Apt. 448\\nAlexisborough, NE 77...</td>\n",
              "      <td>46 in</td>\n",
              "      <td>PM</td>\n",
              "      <td>Opera/9.56.(X11; Linux x86_64; sl-SI) Presto/2...</td>\n",
              "      <td>Martinez-Herman</td>\n",
              "      <td>6011929061123406</td>\n",
              "      <td>02/20</td>\n",
              "      <td>900</td>\n",
              "      <td>JCB 16 digit</td>\n",
              "      <td>pdunlap@yahoo.com</td>\n",
              "      <td>Scientist, product/process development</td>\n",
              "      <td>149.146.147.205</td>\n",
              "      <td>el</td>\n",
              "      <td>98.14</td>\n",
              "    </tr>\n",
              "    <tr>\n",
              "      <th>1</th>\n",
              "      <td>9374 Jasmine Spurs Suite 508\\nSouth John, TN 8...</td>\n",
              "      <td>28 rn</td>\n",
              "      <td>PM</td>\n",
              "      <td>Opera/8.93.(Windows 98; Win 9x 4.90; en-US) Pr...</td>\n",
              "      <td>Fletcher, Richards and Whitaker</td>\n",
              "      <td>3337758169645356</td>\n",
              "      <td>11/18</td>\n",
              "      <td>561</td>\n",
              "      <td>Mastercard</td>\n",
              "      <td>anthony41@reed.com</td>\n",
              "      <td>Drilling engineer</td>\n",
              "      <td>15.160.41.51</td>\n",
              "      <td>fr</td>\n",
              "      <td>70.73</td>\n",
              "    </tr>\n",
              "    <tr>\n",
              "      <th>2</th>\n",
              "      <td>Unit 0065 Box 5052\\nDPO AP 27450</td>\n",
              "      <td>94 vE</td>\n",
              "      <td>PM</td>\n",
              "      <td>Mozilla/5.0 (compatible; MSIE 9.0; Windows NT ...</td>\n",
              "      <td>Simpson, Williams and Pham</td>\n",
              "      <td>675957666125</td>\n",
              "      <td>08/19</td>\n",
              "      <td>699</td>\n",
              "      <td>JCB 16 digit</td>\n",
              "      <td>amymiller@morales-harrison.com</td>\n",
              "      <td>Customer service manager</td>\n",
              "      <td>132.207.160.22</td>\n",
              "      <td>de</td>\n",
              "      <td>0.95</td>\n",
              "    </tr>\n",
              "    <tr>\n",
              "      <th>3</th>\n",
              "      <td>7780 Julia Fords\\nNew Stacy, WA 45798</td>\n",
              "      <td>36 vm</td>\n",
              "      <td>PM</td>\n",
              "      <td>Mozilla/5.0 (Macintosh; Intel Mac OS X 10_8_0 ...</td>\n",
              "      <td>Williams, Marshall and Buchanan</td>\n",
              "      <td>6011578504430710</td>\n",
              "      <td>02/24</td>\n",
              "      <td>384</td>\n",
              "      <td>Discover</td>\n",
              "      <td>brent16@olson-robinson.info</td>\n",
              "      <td>Drilling engineer</td>\n",
              "      <td>30.250.74.19</td>\n",
              "      <td>es</td>\n",
              "      <td>78.04</td>\n",
              "    </tr>\n",
              "    <tr>\n",
              "      <th>4</th>\n",
              "      <td>23012 Munoz Drive Suite 337\\nNew Cynthia, TX 5...</td>\n",
              "      <td>20 IE</td>\n",
              "      <td>AM</td>\n",
              "      <td>Opera/9.58.(X11; Linux x86_64; it-IT) Presto/2...</td>\n",
              "      <td>Brown, Watson and Andrews</td>\n",
              "      <td>6011456623207998</td>\n",
              "      <td>10/25</td>\n",
              "      <td>678</td>\n",
              "      <td>Diners Club / Carte Blanche</td>\n",
              "      <td>christopherwright@gmail.com</td>\n",
              "      <td>Fine artist</td>\n",
              "      <td>24.140.33.94</td>\n",
              "      <td>es</td>\n",
              "      <td>77.82</td>\n",
              "    </tr>\n",
              "    <tr>\n",
              "      <th>...</th>\n",
              "      <td>...</td>\n",
              "      <td>...</td>\n",
              "      <td>...</td>\n",
              "      <td>...</td>\n",
              "      <td>...</td>\n",
              "      <td>...</td>\n",
              "      <td>...</td>\n",
              "      <td>...</td>\n",
              "      <td>...</td>\n",
              "      <td>...</td>\n",
              "      <td>...</td>\n",
              "      <td>...</td>\n",
              "      <td>...</td>\n",
              "      <td>...</td>\n",
              "    </tr>\n",
              "    <tr>\n",
              "      <th>9995</th>\n",
              "      <td>966 Castaneda Locks\\nWest Juliafurt, CO 96415</td>\n",
              "      <td>92 XI</td>\n",
              "      <td>PM</td>\n",
              "      <td>Mozilla/5.0 (Windows NT 5.1) AppleWebKit/5352 ...</td>\n",
              "      <td>Randall-Sloan</td>\n",
              "      <td>342945015358701</td>\n",
              "      <td>03/22</td>\n",
              "      <td>838</td>\n",
              "      <td>JCB 15 digit</td>\n",
              "      <td>iscott@wade-garner.com</td>\n",
              "      <td>Printmaker</td>\n",
              "      <td>29.73.197.114</td>\n",
              "      <td>it</td>\n",
              "      <td>82.21</td>\n",
              "    </tr>\n",
              "    <tr>\n",
              "      <th>9996</th>\n",
              "      <td>832 Curtis Dam Suite 785\\nNorth Edwardburgh, T...</td>\n",
              "      <td>41 JY</td>\n",
              "      <td>AM</td>\n",
              "      <td>Mozilla/5.0 (compatible; MSIE 9.0; Windows NT ...</td>\n",
              "      <td>Hale, Collins and Wilson</td>\n",
              "      <td>210033169205009</td>\n",
              "      <td>07/25</td>\n",
              "      <td>207</td>\n",
              "      <td>JCB 16 digit</td>\n",
              "      <td>mary85@hotmail.com</td>\n",
              "      <td>Energy engineer</td>\n",
              "      <td>121.133.168.51</td>\n",
              "      <td>pt</td>\n",
              "      <td>25.63</td>\n",
              "    </tr>\n",
              "    <tr>\n",
              "      <th>9997</th>\n",
              "      <td>Unit 4434 Box 6343\\nDPO AE 28026-0283</td>\n",
              "      <td>74 Zh</td>\n",
              "      <td>AM</td>\n",
              "      <td>Mozilla/5.0 (Macintosh; U; Intel Mac OS X 10_7...</td>\n",
              "      <td>Anderson Ltd</td>\n",
              "      <td>6011539787356311</td>\n",
              "      <td>05/21</td>\n",
              "      <td>1</td>\n",
              "      <td>VISA 16 digit</td>\n",
              "      <td>tyler16@gmail.com</td>\n",
              "      <td>Veterinary surgeon</td>\n",
              "      <td>156.210.0.254</td>\n",
              "      <td>el</td>\n",
              "      <td>83.98</td>\n",
              "    </tr>\n",
              "    <tr>\n",
              "      <th>9998</th>\n",
              "      <td>0096 English Rest\\nRoystad, IA 12457</td>\n",
              "      <td>74 cL</td>\n",
              "      <td>PM</td>\n",
              "      <td>Mozilla/5.0 (Macintosh; Intel Mac OS X 10_8_8;...</td>\n",
              "      <td>Cook Inc</td>\n",
              "      <td>180003348082930</td>\n",
              "      <td>11/17</td>\n",
              "      <td>987</td>\n",
              "      <td>American Express</td>\n",
              "      <td>elizabethmoore@reid.net</td>\n",
              "      <td>Local government officer</td>\n",
              "      <td>55.78.26.143</td>\n",
              "      <td>es</td>\n",
              "      <td>38.84</td>\n",
              "    </tr>\n",
              "    <tr>\n",
              "      <th>9999</th>\n",
              "      <td>40674 Barrett Stravenue\\nGrimesville, WI 79682</td>\n",
              "      <td>64 Hr</td>\n",
              "      <td>AM</td>\n",
              "      <td>Mozilla/5.0 (X11; Linux i686; rv:1.9.5.20) Gec...</td>\n",
              "      <td>Greene Inc</td>\n",
              "      <td>4139972901927273</td>\n",
              "      <td>02/19</td>\n",
              "      <td>302</td>\n",
              "      <td>JCB 15 digit</td>\n",
              "      <td>rachelford@vaughn.com</td>\n",
              "      <td>Embryologist, clinical</td>\n",
              "      <td>176.119.198.199</td>\n",
              "      <td>el</td>\n",
              "      <td>67.59</td>\n",
              "    </tr>\n",
              "  </tbody>\n",
              "</table>\n",
              "<p>10000 rows × 14 columns</p>\n",
              "</div>\n",
              "    <div class=\"colab-df-buttons\">\n",
              "\n",
              "  <div class=\"colab-df-container\">\n",
              "    <button class=\"colab-df-convert\" onclick=\"convertToInteractive('df-9b924e77-29d6-4d54-8633-7b5415d7a4e3')\"\n",
              "            title=\"Convert this dataframe to an interactive table.\"\n",
              "            style=\"display:none;\">\n",
              "\n",
              "  <svg xmlns=\"http://www.w3.org/2000/svg\" height=\"24px\" viewBox=\"0 -960 960 960\">\n",
              "    <path d=\"M120-120v-720h720v720H120Zm60-500h600v-160H180v160Zm220 220h160v-160H400v160Zm0 220h160v-160H400v160ZM180-400h160v-160H180v160Zm440 0h160v-160H620v160ZM180-180h160v-160H180v160Zm440 0h160v-160H620v160Z\"/>\n",
              "  </svg>\n",
              "    </button>\n",
              "\n",
              "  <style>\n",
              "    .colab-df-container {\n",
              "      display:flex;\n",
              "      gap: 12px;\n",
              "    }\n",
              "\n",
              "    .colab-df-convert {\n",
              "      background-color: #E8F0FE;\n",
              "      border: none;\n",
              "      border-radius: 50%;\n",
              "      cursor: pointer;\n",
              "      display: none;\n",
              "      fill: #1967D2;\n",
              "      height: 32px;\n",
              "      padding: 0 0 0 0;\n",
              "      width: 32px;\n",
              "    }\n",
              "\n",
              "    .colab-df-convert:hover {\n",
              "      background-color: #E2EBFA;\n",
              "      box-shadow: 0px 1px 2px rgba(60, 64, 67, 0.3), 0px 1px 3px 1px rgba(60, 64, 67, 0.15);\n",
              "      fill: #174EA6;\n",
              "    }\n",
              "\n",
              "    .colab-df-buttons div {\n",
              "      margin-bottom: 4px;\n",
              "    }\n",
              "\n",
              "    [theme=dark] .colab-df-convert {\n",
              "      background-color: #3B4455;\n",
              "      fill: #D2E3FC;\n",
              "    }\n",
              "\n",
              "    [theme=dark] .colab-df-convert:hover {\n",
              "      background-color: #434B5C;\n",
              "      box-shadow: 0px 1px 3px 1px rgba(0, 0, 0, 0.15);\n",
              "      filter: drop-shadow(0px 1px 2px rgba(0, 0, 0, 0.3));\n",
              "      fill: #FFFFFF;\n",
              "    }\n",
              "  </style>\n",
              "\n",
              "    <script>\n",
              "      const buttonEl =\n",
              "        document.querySelector('#df-9b924e77-29d6-4d54-8633-7b5415d7a4e3 button.colab-df-convert');\n",
              "      buttonEl.style.display =\n",
              "        google.colab.kernel.accessAllowed ? 'block' : 'none';\n",
              "\n",
              "      async function convertToInteractive(key) {\n",
              "        const element = document.querySelector('#df-9b924e77-29d6-4d54-8633-7b5415d7a4e3');\n",
              "        const dataTable =\n",
              "          await google.colab.kernel.invokeFunction('convertToInteractive',\n",
              "                                                    [key], {});\n",
              "        if (!dataTable) return;\n",
              "\n",
              "        const docLinkHtml = 'Like what you see? Visit the ' +\n",
              "          '<a target=\"_blank\" href=https://colab.research.google.com/notebooks/data_table.ipynb>data table notebook</a>'\n",
              "          + ' to learn more about interactive tables.';\n",
              "        element.innerHTML = '';\n",
              "        dataTable['output_type'] = 'display_data';\n",
              "        await google.colab.output.renderOutput(dataTable, element);\n",
              "        const docLink = document.createElement('div');\n",
              "        docLink.innerHTML = docLinkHtml;\n",
              "        element.appendChild(docLink);\n",
              "      }\n",
              "    </script>\n",
              "  </div>\n",
              "\n",
              "\n",
              "<div id=\"df-a90e3098-d083-4124-8a64-847d75dadf3d\">\n",
              "  <button class=\"colab-df-quickchart\" onclick=\"quickchart('df-a90e3098-d083-4124-8a64-847d75dadf3d')\"\n",
              "            title=\"Suggest charts\"\n",
              "            style=\"display:none;\">\n",
              "\n",
              "<svg xmlns=\"http://www.w3.org/2000/svg\" height=\"24px\"viewBox=\"0 0 24 24\"\n",
              "     width=\"24px\">\n",
              "    <g>\n",
              "        <path d=\"M19 3H5c-1.1 0-2 .9-2 2v14c0 1.1.9 2 2 2h14c1.1 0 2-.9 2-2V5c0-1.1-.9-2-2-2zM9 17H7v-7h2v7zm4 0h-2V7h2v10zm4 0h-2v-4h2v4z\"/>\n",
              "    </g>\n",
              "</svg>\n",
              "  </button>\n",
              "\n",
              "<style>\n",
              "  .colab-df-quickchart {\n",
              "      --bg-color: #E8F0FE;\n",
              "      --fill-color: #1967D2;\n",
              "      --hover-bg-color: #E2EBFA;\n",
              "      --hover-fill-color: #174EA6;\n",
              "      --disabled-fill-color: #AAA;\n",
              "      --disabled-bg-color: #DDD;\n",
              "  }\n",
              "\n",
              "  [theme=dark] .colab-df-quickchart {\n",
              "      --bg-color: #3B4455;\n",
              "      --fill-color: #D2E3FC;\n",
              "      --hover-bg-color: #434B5C;\n",
              "      --hover-fill-color: #FFFFFF;\n",
              "      --disabled-bg-color: #3B4455;\n",
              "      --disabled-fill-color: #666;\n",
              "  }\n",
              "\n",
              "  .colab-df-quickchart {\n",
              "    background-color: var(--bg-color);\n",
              "    border: none;\n",
              "    border-radius: 50%;\n",
              "    cursor: pointer;\n",
              "    display: none;\n",
              "    fill: var(--fill-color);\n",
              "    height: 32px;\n",
              "    padding: 0;\n",
              "    width: 32px;\n",
              "  }\n",
              "\n",
              "  .colab-df-quickchart:hover {\n",
              "    background-color: var(--hover-bg-color);\n",
              "    box-shadow: 0 1px 2px rgba(60, 64, 67, 0.3), 0 1px 3px 1px rgba(60, 64, 67, 0.15);\n",
              "    fill: var(--button-hover-fill-color);\n",
              "  }\n",
              "\n",
              "  .colab-df-quickchart-complete:disabled,\n",
              "  .colab-df-quickchart-complete:disabled:hover {\n",
              "    background-color: var(--disabled-bg-color);\n",
              "    fill: var(--disabled-fill-color);\n",
              "    box-shadow: none;\n",
              "  }\n",
              "\n",
              "  .colab-df-spinner {\n",
              "    border: 2px solid var(--fill-color);\n",
              "    border-color: transparent;\n",
              "    border-bottom-color: var(--fill-color);\n",
              "    animation:\n",
              "      spin 1s steps(1) infinite;\n",
              "  }\n",
              "\n",
              "  @keyframes spin {\n",
              "    0% {\n",
              "      border-color: transparent;\n",
              "      border-bottom-color: var(--fill-color);\n",
              "      border-left-color: var(--fill-color);\n",
              "    }\n",
              "    20% {\n",
              "      border-color: transparent;\n",
              "      border-left-color: var(--fill-color);\n",
              "      border-top-color: var(--fill-color);\n",
              "    }\n",
              "    30% {\n",
              "      border-color: transparent;\n",
              "      border-left-color: var(--fill-color);\n",
              "      border-top-color: var(--fill-color);\n",
              "      border-right-color: var(--fill-color);\n",
              "    }\n",
              "    40% {\n",
              "      border-color: transparent;\n",
              "      border-right-color: var(--fill-color);\n",
              "      border-top-color: var(--fill-color);\n",
              "    }\n",
              "    60% {\n",
              "      border-color: transparent;\n",
              "      border-right-color: var(--fill-color);\n",
              "    }\n",
              "    80% {\n",
              "      border-color: transparent;\n",
              "      border-right-color: var(--fill-color);\n",
              "      border-bottom-color: var(--fill-color);\n",
              "    }\n",
              "    90% {\n",
              "      border-color: transparent;\n",
              "      border-bottom-color: var(--fill-color);\n",
              "    }\n",
              "  }\n",
              "</style>\n",
              "\n",
              "  <script>\n",
              "    async function quickchart(key) {\n",
              "      const quickchartButtonEl =\n",
              "        document.querySelector('#' + key + ' button');\n",
              "      quickchartButtonEl.disabled = true;  // To prevent multiple clicks.\n",
              "      quickchartButtonEl.classList.add('colab-df-spinner');\n",
              "      try {\n",
              "        const charts = await google.colab.kernel.invokeFunction(\n",
              "            'suggestCharts', [key], {});\n",
              "      } catch (error) {\n",
              "        console.error('Error during call to suggestCharts:', error);\n",
              "      }\n",
              "      quickchartButtonEl.classList.remove('colab-df-spinner');\n",
              "      quickchartButtonEl.classList.add('colab-df-quickchart-complete');\n",
              "    }\n",
              "    (() => {\n",
              "      let quickchartButtonEl =\n",
              "        document.querySelector('#df-a90e3098-d083-4124-8a64-847d75dadf3d button');\n",
              "      quickchartButtonEl.style.display =\n",
              "        google.colab.kernel.accessAllowed ? 'block' : 'none';\n",
              "    })();\n",
              "  </script>\n",
              "</div>\n",
              "\n",
              "  <div id=\"id_2aacf9df-ebe2-4b7a-8760-aa8ced62f88c\">\n",
              "    <style>\n",
              "      .colab-df-generate {\n",
              "        background-color: #E8F0FE;\n",
              "        border: none;\n",
              "        border-radius: 50%;\n",
              "        cursor: pointer;\n",
              "        display: none;\n",
              "        fill: #1967D2;\n",
              "        height: 32px;\n",
              "        padding: 0 0 0 0;\n",
              "        width: 32px;\n",
              "      }\n",
              "\n",
              "      .colab-df-generate:hover {\n",
              "        background-color: #E2EBFA;\n",
              "        box-shadow: 0px 1px 2px rgba(60, 64, 67, 0.3), 0px 1px 3px 1px rgba(60, 64, 67, 0.15);\n",
              "        fill: #174EA6;\n",
              "      }\n",
              "\n",
              "      [theme=dark] .colab-df-generate {\n",
              "        background-color: #3B4455;\n",
              "        fill: #D2E3FC;\n",
              "      }\n",
              "\n",
              "      [theme=dark] .colab-df-generate:hover {\n",
              "        background-color: #434B5C;\n",
              "        box-shadow: 0px 1px 3px 1px rgba(0, 0, 0, 0.15);\n",
              "        filter: drop-shadow(0px 1px 2px rgba(0, 0, 0, 0.3));\n",
              "        fill: #FFFFFF;\n",
              "      }\n",
              "    </style>\n",
              "    <button class=\"colab-df-generate\" onclick=\"generateWithVariable('df')\"\n",
              "            title=\"Generate code using this dataframe.\"\n",
              "            style=\"display:none;\">\n",
              "\n",
              "  <svg xmlns=\"http://www.w3.org/2000/svg\" height=\"24px\"viewBox=\"0 0 24 24\"\n",
              "       width=\"24px\">\n",
              "    <path d=\"M7,19H8.4L18.45,9,17,7.55,7,17.6ZM5,21V16.75L18.45,3.32a2,2,0,0,1,2.83,0l1.4,1.43a1.91,1.91,0,0,1,.58,1.4,1.91,1.91,0,0,1-.58,1.4L9.25,21ZM18.45,9,17,7.55Zm-12,3A5.31,5.31,0,0,0,4.9,8.1,5.31,5.31,0,0,0,1,6.5,5.31,5.31,0,0,0,4.9,4.9,5.31,5.31,0,0,0,6.5,1,5.31,5.31,0,0,0,8.1,4.9,5.31,5.31,0,0,0,12,6.5,5.46,5.46,0,0,0,6.5,12Z\"/>\n",
              "  </svg>\n",
              "    </button>\n",
              "    <script>\n",
              "      (() => {\n",
              "      const buttonEl =\n",
              "        document.querySelector('#id_2aacf9df-ebe2-4b7a-8760-aa8ced62f88c button.colab-df-generate');\n",
              "      buttonEl.style.display =\n",
              "        google.colab.kernel.accessAllowed ? 'block' : 'none';\n",
              "\n",
              "      buttonEl.onclick = () => {\n",
              "        google.colab.notebook.generateWithVariable('df');\n",
              "      }\n",
              "      })();\n",
              "    </script>\n",
              "  </div>\n",
              "\n",
              "    </div>\n",
              "  </div>\n"
            ],
            "application/vnd.google.colaboratory.intrinsic+json": {
              "type": "dataframe",
              "variable_name": "df",
              "summary": "{\n  \"name\": \"df\",\n  \"rows\": 10000,\n  \"fields\": [\n    {\n      \"column\": \"Address\",\n      \"properties\": {\n        \"dtype\": \"string\",\n        \"num_unique_values\": 10000,\n        \"samples\": [\n          \"1606 Martin Roads Apt. 575\\nLake Bradleymouth, GU 86537-3756\",\n          \"8859 Jackson Motorway Suite 400\\nEast Samanthaland, DE 40105-9834\",\n          \"392 Andrew Loaf Suite 571\\nSouth Karen, GU 04082\"\n        ],\n        \"semantic_type\": \"\",\n        \"description\": \"\"\n      }\n    },\n    {\n      \"column\": \"Lot\",\n      \"properties\": {\n        \"dtype\": \"string\",\n        \"num_unique_values\": 9822,\n        \"samples\": [\n          \"60 uq\",\n          \"14 FY\",\n          \"54 iF\"\n        ],\n        \"semantic_type\": \"\",\n        \"description\": \"\"\n      }\n    },\n    {\n      \"column\": \"AM or PM\",\n      \"properties\": {\n        \"dtype\": \"category\",\n        \"num_unique_values\": 2,\n        \"samples\": [\n          \"AM\",\n          \"PM\"\n        ],\n        \"semantic_type\": \"\",\n        \"description\": \"\"\n      }\n    },\n    {\n      \"column\": \"Browser Info\",\n      \"properties\": {\n        \"dtype\": \"string\",\n        \"num_unique_values\": 8287,\n        \"samples\": [\n          \"Mozilla/5.0 (Macintosh; U; PPC Mac OS X 10_8_1 rv:2.0; en-US) AppleWebKit/534.29.5 (KHTML, like Gecko) Version/4.1 Safari/534.29.5\",\n          \"Mozilla/5.0 (Windows NT 4.0) AppleWebKit/5332 (KHTML, like Gecko) Chrome/14.0.891.0 Safari/5332\"\n        ],\n        \"semantic_type\": \"\",\n        \"description\": \"\"\n      }\n    },\n    {\n      \"column\": \"Company\",\n      \"properties\": {\n        \"dtype\": \"string\",\n        \"num_unique_values\": 8653,\n        \"samples\": [\n          \"Richards-Steele\",\n          \"Forbes, Orozco and Ellis\"\n        ],\n        \"semantic_type\": \"\",\n        \"description\": \"\"\n      }\n    },\n    {\n      \"column\": \"Credit Card\",\n      \"properties\": {\n        \"dtype\": \"number\",\n        \"std\": 2256102885223829,\n        \"min\": 60401860543,\n        \"max\": 6011999761615928,\n        \"num_unique_values\": 10000,\n        \"samples\": [\n          3528401718511980,\n          501814809031\n        ],\n        \"semantic_type\": \"\",\n        \"description\": \"\"\n      }\n    },\n    {\n      \"column\": \"CC Exp Date\",\n      \"properties\": {\n        \"dtype\": \"category\",\n        \"num_unique_values\": 121,\n        \"samples\": [\n          \"11/23\",\n          \"01/24\"\n        ],\n        \"semantic_type\": \"\",\n        \"description\": \"\"\n      }\n    },\n    {\n      \"column\": \"CC Security Code\",\n      \"properties\": {\n        \"dtype\": \"number\",\n        \"std\": 1589,\n        \"min\": 0,\n        \"max\": 9993,\n        \"num_unique_values\": 1758,\n        \"samples\": [\n          541,\n          341\n        ],\n        \"semantic_type\": \"\",\n        \"description\": \"\"\n      }\n    },\n    {\n      \"column\": \"CC Provider\",\n      \"properties\": {\n        \"dtype\": \"category\",\n        \"num_unique_values\": 10,\n        \"samples\": [\n          \"JCB 15 digit\",\n          \"Mastercard\"\n        ],\n        \"semantic_type\": \"\",\n        \"description\": \"\"\n      }\n    },\n    {\n      \"column\": \"Email\",\n      \"properties\": {\n        \"dtype\": \"string\",\n        \"num_unique_values\": 9954,\n        \"samples\": [\n          \"matthewwade@mcintyre.info\",\n          \"olsonscott@yahoo.com\"\n        ],\n        \"semantic_type\": \"\",\n        \"description\": \"\"\n      }\n    },\n    {\n      \"column\": \"Job\",\n      \"properties\": {\n        \"dtype\": \"category\",\n        \"num_unique_values\": 623,\n        \"samples\": [\n          \"Engineer, structural\",\n          \"Programmer, applications\"\n        ],\n        \"semantic_type\": \"\",\n        \"description\": \"\"\n      }\n    },\n    {\n      \"column\": \"IP Address\",\n      \"properties\": {\n        \"dtype\": \"string\",\n        \"num_unique_values\": 10000,\n        \"samples\": [\n          \"30.49.135.47\",\n          \"165.76.105.181\"\n        ],\n        \"semantic_type\": \"\",\n        \"description\": \"\"\n      }\n    },\n    {\n      \"column\": \"Language\",\n      \"properties\": {\n        \"dtype\": \"category\",\n        \"num_unique_values\": 9,\n        \"samples\": [\n          \"en\",\n          \"fr\"\n        ],\n        \"semantic_type\": \"\",\n        \"description\": \"\"\n      }\n    },\n    {\n      \"column\": \"Purchase Price\",\n      \"properties\": {\n        \"dtype\": \"number\",\n        \"std\": 29.01583630978903,\n        \"min\": 0.0,\n        \"max\": 99.99,\n        \"num_unique_values\": 6349,\n        \"samples\": [\n          8.61,\n          0.21\n        ],\n        \"semantic_type\": \"\",\n        \"description\": \"\"\n      }\n    }\n  ]\n}"
            }
          },
          "metadata": {},
          "execution_count": 3
        }
      ],
      "source": [
        "# import Python Libraries\n",
        "import pandas as pd\n",
        "import numpy as np\n",
        "# Load the Dataset\n",
        "df=pd.read_csv('Ecommerce Purchases')\n",
        "# Inspect first 10 rows of the Dataset\n",
        "df.head(2)"
      ]
    },
    {
      "cell_type": "code",
      "source": [
        "# Inspect Last 10 rows of the Data set\n",
        "df.tail(2)"
      ],
      "metadata": {
        "colab": {
          "base_uri": "https://localhost:8080/",
          "height": 903
        },
        "id": "_6CbjFdnvS6s",
        "outputId": "3c14fd37-53c7-437d-84b2-2cb27b7e13e8"
      },
      "execution_count": 4,
      "outputs": [
        {
          "output_type": "execute_result",
          "data": {
            "text/plain": [
              "                                                Address    Lot AM or PM  \\\n",
              "9990  75731 Molly Springs\\nWest Danielle, VT 96934-5102  93 ty       PM   \n",
              "9991              PSC 8165, Box 8498\\nAPO AP 60327-0346  50 dA       AM   \n",
              "9992  885 Allen Mountains Apt. 230\\nWallhaven, LA 16995  40 vH       PM   \n",
              "9993  7555 Larson Locks Suite 229\\nEllisburgh, MA 34...  72 jg       PM   \n",
              "9994       6276 Rojas Hollow\\nLake Louis, WY 56410-7837  93 Ex       PM   \n",
              "9995      966 Castaneda Locks\\nWest Juliafurt, CO 96415  92 XI       PM   \n",
              "9996  832 Curtis Dam Suite 785\\nNorth Edwardburgh, T...  41 JY       AM   \n",
              "9997              Unit 4434 Box 6343\\nDPO AE 28026-0283  74 Zh       AM   \n",
              "9998               0096 English Rest\\nRoystad, IA 12457  74 cL       PM   \n",
              "9999     40674 Barrett Stravenue\\nGrimesville, WI 79682  64 Hr       AM   \n",
              "\n",
              "                                           Browser Info  \\\n",
              "9990  Mozilla/5.0 (Macintosh; Intel Mac OS X 10_7_4;...   \n",
              "9991  Mozilla/5.0 (compatible; MSIE 8.0; Windows NT ...   \n",
              "9992  Mozilla/5.0 (Macintosh; PPC Mac OS X 10_6_5) A...   \n",
              "9993  Mozilla/5.0 (Macintosh; U; Intel Mac OS X 10_8...   \n",
              "9994  Opera/9.68.(X11; Linux x86_64; sl-SI) Presto/2...   \n",
              "9995  Mozilla/5.0 (Windows NT 5.1) AppleWebKit/5352 ...   \n",
              "9996  Mozilla/5.0 (compatible; MSIE 9.0; Windows NT ...   \n",
              "9997  Mozilla/5.0 (Macintosh; U; Intel Mac OS X 10_7...   \n",
              "9998  Mozilla/5.0 (Macintosh; Intel Mac OS X 10_8_8;...   \n",
              "9999  Mozilla/5.0 (X11; Linux i686; rv:1.9.5.20) Gec...   \n",
              "\n",
              "                         Company       Credit Card CC Exp Date  \\\n",
              "9990  Pace, Vazquez and Richards   869968197049750       04/24   \n",
              "9991                  Snyder Inc  4221582137197481       02/24   \n",
              "9992                   Wells Ltd  4664825258997302       10/20   \n",
              "9993              Colon and Sons    30025560104631       10/25   \n",
              "9994                Ritter-Smith  3112186784121077       01/25   \n",
              "9995               Randall-Sloan   342945015358701       03/22   \n",
              "9996    Hale, Collins and Wilson   210033169205009       07/25   \n",
              "9997                Anderson Ltd  6011539787356311       05/21   \n",
              "9998                    Cook Inc   180003348082930       11/17   \n",
              "9999                  Greene Inc  4139972901927273       02/19   \n",
              "\n",
              "      CC Security Code       CC Provider                        Email  \\\n",
              "9990               877      JCB 15 digit  andersonmichael@sherman.biz   \n",
              "9991               969           Voyager           kking@wise-liu.com   \n",
              "9992               431          Discover            bberry@wright.net   \n",
              "9993               629           Maestro    chelseawilliams@lopez.biz   \n",
              "9994              1823           Maestro           iroberts@gmail.com   \n",
              "9995               838      JCB 15 digit       iscott@wade-garner.com   \n",
              "9996               207      JCB 16 digit           mary85@hotmail.com   \n",
              "9997                 1     VISA 16 digit            tyler16@gmail.com   \n",
              "9998               987  American Express      elizabethmoore@reid.net   \n",
              "9999               302      JCB 15 digit        rachelford@vaughn.com   \n",
              "\n",
              "                               Job       IP Address Language  Purchase Price  \n",
              "9990           Early years teacher     54.170.3.185       ru           18.35  \n",
              "9991         IT sales professional    254.25.31.156       el           25.93  \n",
              "9992                  Set designer    174.173.51.32       de           67.96  \n",
              "9993  Designer, exhibition/display    177.46.82.128       el           65.61  \n",
              "9994     Education officer, museum    242.44.112.18       zh           31.85  \n",
              "9995                    Printmaker    29.73.197.114       it           82.21  \n",
              "9996               Energy engineer   121.133.168.51       pt           25.63  \n",
              "9997            Veterinary surgeon    156.210.0.254       el           83.98  \n",
              "9998      Local government officer     55.78.26.143       es           38.84  \n",
              "9999        Embryologist, clinical  176.119.198.199       el           67.59  "
            ],
            "text/html": [
              "\n",
              "  <div id=\"df-1a9f14f2-6106-4e78-b4be-f0d53667458c\" class=\"colab-df-container\">\n",
              "    <div>\n",
              "<style scoped>\n",
              "    .dataframe tbody tr th:only-of-type {\n",
              "        vertical-align: middle;\n",
              "    }\n",
              "\n",
              "    .dataframe tbody tr th {\n",
              "        vertical-align: top;\n",
              "    }\n",
              "\n",
              "    .dataframe thead th {\n",
              "        text-align: right;\n",
              "    }\n",
              "</style>\n",
              "<table border=\"1\" class=\"dataframe\">\n",
              "  <thead>\n",
              "    <tr style=\"text-align: right;\">\n",
              "      <th></th>\n",
              "      <th>Address</th>\n",
              "      <th>Lot</th>\n",
              "      <th>AM or PM</th>\n",
              "      <th>Browser Info</th>\n",
              "      <th>Company</th>\n",
              "      <th>Credit Card</th>\n",
              "      <th>CC Exp Date</th>\n",
              "      <th>CC Security Code</th>\n",
              "      <th>CC Provider</th>\n",
              "      <th>Email</th>\n",
              "      <th>Job</th>\n",
              "      <th>IP Address</th>\n",
              "      <th>Language</th>\n",
              "      <th>Purchase Price</th>\n",
              "    </tr>\n",
              "  </thead>\n",
              "  <tbody>\n",
              "    <tr>\n",
              "      <th>9990</th>\n",
              "      <td>75731 Molly Springs\\nWest Danielle, VT 96934-5102</td>\n",
              "      <td>93 ty</td>\n",
              "      <td>PM</td>\n",
              "      <td>Mozilla/5.0 (Macintosh; Intel Mac OS X 10_7_4;...</td>\n",
              "      <td>Pace, Vazquez and Richards</td>\n",
              "      <td>869968197049750</td>\n",
              "      <td>04/24</td>\n",
              "      <td>877</td>\n",
              "      <td>JCB 15 digit</td>\n",
              "      <td>andersonmichael@sherman.biz</td>\n",
              "      <td>Early years teacher</td>\n",
              "      <td>54.170.3.185</td>\n",
              "      <td>ru</td>\n",
              "      <td>18.35</td>\n",
              "    </tr>\n",
              "    <tr>\n",
              "      <th>9991</th>\n",
              "      <td>PSC 8165, Box 8498\\nAPO AP 60327-0346</td>\n",
              "      <td>50 dA</td>\n",
              "      <td>AM</td>\n",
              "      <td>Mozilla/5.0 (compatible; MSIE 8.0; Windows NT ...</td>\n",
              "      <td>Snyder Inc</td>\n",
              "      <td>4221582137197481</td>\n",
              "      <td>02/24</td>\n",
              "      <td>969</td>\n",
              "      <td>Voyager</td>\n",
              "      <td>kking@wise-liu.com</td>\n",
              "      <td>IT sales professional</td>\n",
              "      <td>254.25.31.156</td>\n",
              "      <td>el</td>\n",
              "      <td>25.93</td>\n",
              "    </tr>\n",
              "    <tr>\n",
              "      <th>9992</th>\n",
              "      <td>885 Allen Mountains Apt. 230\\nWallhaven, LA 16995</td>\n",
              "      <td>40 vH</td>\n",
              "      <td>PM</td>\n",
              "      <td>Mozilla/5.0 (Macintosh; PPC Mac OS X 10_6_5) A...</td>\n",
              "      <td>Wells Ltd</td>\n",
              "      <td>4664825258997302</td>\n",
              "      <td>10/20</td>\n",
              "      <td>431</td>\n",
              "      <td>Discover</td>\n",
              "      <td>bberry@wright.net</td>\n",
              "      <td>Set designer</td>\n",
              "      <td>174.173.51.32</td>\n",
              "      <td>de</td>\n",
              "      <td>67.96</td>\n",
              "    </tr>\n",
              "    <tr>\n",
              "      <th>9993</th>\n",
              "      <td>7555 Larson Locks Suite 229\\nEllisburgh, MA 34...</td>\n",
              "      <td>72 jg</td>\n",
              "      <td>PM</td>\n",
              "      <td>Mozilla/5.0 (Macintosh; U; Intel Mac OS X 10_8...</td>\n",
              "      <td>Colon and Sons</td>\n",
              "      <td>30025560104631</td>\n",
              "      <td>10/25</td>\n",
              "      <td>629</td>\n",
              "      <td>Maestro</td>\n",
              "      <td>chelseawilliams@lopez.biz</td>\n",
              "      <td>Designer, exhibition/display</td>\n",
              "      <td>177.46.82.128</td>\n",
              "      <td>el</td>\n",
              "      <td>65.61</td>\n",
              "    </tr>\n",
              "    <tr>\n",
              "      <th>9994</th>\n",
              "      <td>6276 Rojas Hollow\\nLake Louis, WY 56410-7837</td>\n",
              "      <td>93 Ex</td>\n",
              "      <td>PM</td>\n",
              "      <td>Opera/9.68.(X11; Linux x86_64; sl-SI) Presto/2...</td>\n",
              "      <td>Ritter-Smith</td>\n",
              "      <td>3112186784121077</td>\n",
              "      <td>01/25</td>\n",
              "      <td>1823</td>\n",
              "      <td>Maestro</td>\n",
              "      <td>iroberts@gmail.com</td>\n",
              "      <td>Education officer, museum</td>\n",
              "      <td>242.44.112.18</td>\n",
              "      <td>zh</td>\n",
              "      <td>31.85</td>\n",
              "    </tr>\n",
              "    <tr>\n",
              "      <th>9995</th>\n",
              "      <td>966 Castaneda Locks\\nWest Juliafurt, CO 96415</td>\n",
              "      <td>92 XI</td>\n",
              "      <td>PM</td>\n",
              "      <td>Mozilla/5.0 (Windows NT 5.1) AppleWebKit/5352 ...</td>\n",
              "      <td>Randall-Sloan</td>\n",
              "      <td>342945015358701</td>\n",
              "      <td>03/22</td>\n",
              "      <td>838</td>\n",
              "      <td>JCB 15 digit</td>\n",
              "      <td>iscott@wade-garner.com</td>\n",
              "      <td>Printmaker</td>\n",
              "      <td>29.73.197.114</td>\n",
              "      <td>it</td>\n",
              "      <td>82.21</td>\n",
              "    </tr>\n",
              "    <tr>\n",
              "      <th>9996</th>\n",
              "      <td>832 Curtis Dam Suite 785\\nNorth Edwardburgh, T...</td>\n",
              "      <td>41 JY</td>\n",
              "      <td>AM</td>\n",
              "      <td>Mozilla/5.0 (compatible; MSIE 9.0; Windows NT ...</td>\n",
              "      <td>Hale, Collins and Wilson</td>\n",
              "      <td>210033169205009</td>\n",
              "      <td>07/25</td>\n",
              "      <td>207</td>\n",
              "      <td>JCB 16 digit</td>\n",
              "      <td>mary85@hotmail.com</td>\n",
              "      <td>Energy engineer</td>\n",
              "      <td>121.133.168.51</td>\n",
              "      <td>pt</td>\n",
              "      <td>25.63</td>\n",
              "    </tr>\n",
              "    <tr>\n",
              "      <th>9997</th>\n",
              "      <td>Unit 4434 Box 6343\\nDPO AE 28026-0283</td>\n",
              "      <td>74 Zh</td>\n",
              "      <td>AM</td>\n",
              "      <td>Mozilla/5.0 (Macintosh; U; Intel Mac OS X 10_7...</td>\n",
              "      <td>Anderson Ltd</td>\n",
              "      <td>6011539787356311</td>\n",
              "      <td>05/21</td>\n",
              "      <td>1</td>\n",
              "      <td>VISA 16 digit</td>\n",
              "      <td>tyler16@gmail.com</td>\n",
              "      <td>Veterinary surgeon</td>\n",
              "      <td>156.210.0.254</td>\n",
              "      <td>el</td>\n",
              "      <td>83.98</td>\n",
              "    </tr>\n",
              "    <tr>\n",
              "      <th>9998</th>\n",
              "      <td>0096 English Rest\\nRoystad, IA 12457</td>\n",
              "      <td>74 cL</td>\n",
              "      <td>PM</td>\n",
              "      <td>Mozilla/5.0 (Macintosh; Intel Mac OS X 10_8_8;...</td>\n",
              "      <td>Cook Inc</td>\n",
              "      <td>180003348082930</td>\n",
              "      <td>11/17</td>\n",
              "      <td>987</td>\n",
              "      <td>American Express</td>\n",
              "      <td>elizabethmoore@reid.net</td>\n",
              "      <td>Local government officer</td>\n",
              "      <td>55.78.26.143</td>\n",
              "      <td>es</td>\n",
              "      <td>38.84</td>\n",
              "    </tr>\n",
              "    <tr>\n",
              "      <th>9999</th>\n",
              "      <td>40674 Barrett Stravenue\\nGrimesville, WI 79682</td>\n",
              "      <td>64 Hr</td>\n",
              "      <td>AM</td>\n",
              "      <td>Mozilla/5.0 (X11; Linux i686; rv:1.9.5.20) Gec...</td>\n",
              "      <td>Greene Inc</td>\n",
              "      <td>4139972901927273</td>\n",
              "      <td>02/19</td>\n",
              "      <td>302</td>\n",
              "      <td>JCB 15 digit</td>\n",
              "      <td>rachelford@vaughn.com</td>\n",
              "      <td>Embryologist, clinical</td>\n",
              "      <td>176.119.198.199</td>\n",
              "      <td>el</td>\n",
              "      <td>67.59</td>\n",
              "    </tr>\n",
              "  </tbody>\n",
              "</table>\n",
              "</div>\n",
              "    <div class=\"colab-df-buttons\">\n",
              "\n",
              "  <div class=\"colab-df-container\">\n",
              "    <button class=\"colab-df-convert\" onclick=\"convertToInteractive('df-1a9f14f2-6106-4e78-b4be-f0d53667458c')\"\n",
              "            title=\"Convert this dataframe to an interactive table.\"\n",
              "            style=\"display:none;\">\n",
              "\n",
              "  <svg xmlns=\"http://www.w3.org/2000/svg\" height=\"24px\" viewBox=\"0 -960 960 960\">\n",
              "    <path d=\"M120-120v-720h720v720H120Zm60-500h600v-160H180v160Zm220 220h160v-160H400v160Zm0 220h160v-160H400v160ZM180-400h160v-160H180v160Zm440 0h160v-160H620v160ZM180-180h160v-160H180v160Zm440 0h160v-160H620v160Z\"/>\n",
              "  </svg>\n",
              "    </button>\n",
              "\n",
              "  <style>\n",
              "    .colab-df-container {\n",
              "      display:flex;\n",
              "      gap: 12px;\n",
              "    }\n",
              "\n",
              "    .colab-df-convert {\n",
              "      background-color: #E8F0FE;\n",
              "      border: none;\n",
              "      border-radius: 50%;\n",
              "      cursor: pointer;\n",
              "      display: none;\n",
              "      fill: #1967D2;\n",
              "      height: 32px;\n",
              "      padding: 0 0 0 0;\n",
              "      width: 32px;\n",
              "    }\n",
              "\n",
              "    .colab-df-convert:hover {\n",
              "      background-color: #E2EBFA;\n",
              "      box-shadow: 0px 1px 2px rgba(60, 64, 67, 0.3), 0px 1px 3px 1px rgba(60, 64, 67, 0.15);\n",
              "      fill: #174EA6;\n",
              "    }\n",
              "\n",
              "    .colab-df-buttons div {\n",
              "      margin-bottom: 4px;\n",
              "    }\n",
              "\n",
              "    [theme=dark] .colab-df-convert {\n",
              "      background-color: #3B4455;\n",
              "      fill: #D2E3FC;\n",
              "    }\n",
              "\n",
              "    [theme=dark] .colab-df-convert:hover {\n",
              "      background-color: #434B5C;\n",
              "      box-shadow: 0px 1px 3px 1px rgba(0, 0, 0, 0.15);\n",
              "      filter: drop-shadow(0px 1px 2px rgba(0, 0, 0, 0.3));\n",
              "      fill: #FFFFFF;\n",
              "    }\n",
              "  </style>\n",
              "\n",
              "    <script>\n",
              "      const buttonEl =\n",
              "        document.querySelector('#df-1a9f14f2-6106-4e78-b4be-f0d53667458c button.colab-df-convert');\n",
              "      buttonEl.style.display =\n",
              "        google.colab.kernel.accessAllowed ? 'block' : 'none';\n",
              "\n",
              "      async function convertToInteractive(key) {\n",
              "        const element = document.querySelector('#df-1a9f14f2-6106-4e78-b4be-f0d53667458c');\n",
              "        const dataTable =\n",
              "          await google.colab.kernel.invokeFunction('convertToInteractive',\n",
              "                                                    [key], {});\n",
              "        if (!dataTable) return;\n",
              "\n",
              "        const docLinkHtml = 'Like what you see? Visit the ' +\n",
              "          '<a target=\"_blank\" href=https://colab.research.google.com/notebooks/data_table.ipynb>data table notebook</a>'\n",
              "          + ' to learn more about interactive tables.';\n",
              "        element.innerHTML = '';\n",
              "        dataTable['output_type'] = 'display_data';\n",
              "        await google.colab.output.renderOutput(dataTable, element);\n",
              "        const docLink = document.createElement('div');\n",
              "        docLink.innerHTML = docLinkHtml;\n",
              "        element.appendChild(docLink);\n",
              "      }\n",
              "    </script>\n",
              "  </div>\n",
              "\n",
              "\n",
              "<div id=\"df-e50c8f89-8fc4-4aff-9788-93041bb3efbf\">\n",
              "  <button class=\"colab-df-quickchart\" onclick=\"quickchart('df-e50c8f89-8fc4-4aff-9788-93041bb3efbf')\"\n",
              "            title=\"Suggest charts\"\n",
              "            style=\"display:none;\">\n",
              "\n",
              "<svg xmlns=\"http://www.w3.org/2000/svg\" height=\"24px\"viewBox=\"0 0 24 24\"\n",
              "     width=\"24px\">\n",
              "    <g>\n",
              "        <path d=\"M19 3H5c-1.1 0-2 .9-2 2v14c0 1.1.9 2 2 2h14c1.1 0 2-.9 2-2V5c0-1.1-.9-2-2-2zM9 17H7v-7h2v7zm4 0h-2V7h2v10zm4 0h-2v-4h2v4z\"/>\n",
              "    </g>\n",
              "</svg>\n",
              "  </button>\n",
              "\n",
              "<style>\n",
              "  .colab-df-quickchart {\n",
              "      --bg-color: #E8F0FE;\n",
              "      --fill-color: #1967D2;\n",
              "      --hover-bg-color: #E2EBFA;\n",
              "      --hover-fill-color: #174EA6;\n",
              "      --disabled-fill-color: #AAA;\n",
              "      --disabled-bg-color: #DDD;\n",
              "  }\n",
              "\n",
              "  [theme=dark] .colab-df-quickchart {\n",
              "      --bg-color: #3B4455;\n",
              "      --fill-color: #D2E3FC;\n",
              "      --hover-bg-color: #434B5C;\n",
              "      --hover-fill-color: #FFFFFF;\n",
              "      --disabled-bg-color: #3B4455;\n",
              "      --disabled-fill-color: #666;\n",
              "  }\n",
              "\n",
              "  .colab-df-quickchart {\n",
              "    background-color: var(--bg-color);\n",
              "    border: none;\n",
              "    border-radius: 50%;\n",
              "    cursor: pointer;\n",
              "    display: none;\n",
              "    fill: var(--fill-color);\n",
              "    height: 32px;\n",
              "    padding: 0;\n",
              "    width: 32px;\n",
              "  }\n",
              "\n",
              "  .colab-df-quickchart:hover {\n",
              "    background-color: var(--hover-bg-color);\n",
              "    box-shadow: 0 1px 2px rgba(60, 64, 67, 0.3), 0 1px 3px 1px rgba(60, 64, 67, 0.15);\n",
              "    fill: var(--button-hover-fill-color);\n",
              "  }\n",
              "\n",
              "  .colab-df-quickchart-complete:disabled,\n",
              "  .colab-df-quickchart-complete:disabled:hover {\n",
              "    background-color: var(--disabled-bg-color);\n",
              "    fill: var(--disabled-fill-color);\n",
              "    box-shadow: none;\n",
              "  }\n",
              "\n",
              "  .colab-df-spinner {\n",
              "    border: 2px solid var(--fill-color);\n",
              "    border-color: transparent;\n",
              "    border-bottom-color: var(--fill-color);\n",
              "    animation:\n",
              "      spin 1s steps(1) infinite;\n",
              "  }\n",
              "\n",
              "  @keyframes spin {\n",
              "    0% {\n",
              "      border-color: transparent;\n",
              "      border-bottom-color: var(--fill-color);\n",
              "      border-left-color: var(--fill-color);\n",
              "    }\n",
              "    20% {\n",
              "      border-color: transparent;\n",
              "      border-left-color: var(--fill-color);\n",
              "      border-top-color: var(--fill-color);\n",
              "    }\n",
              "    30% {\n",
              "      border-color: transparent;\n",
              "      border-left-color: var(--fill-color);\n",
              "      border-top-color: var(--fill-color);\n",
              "      border-right-color: var(--fill-color);\n",
              "    }\n",
              "    40% {\n",
              "      border-color: transparent;\n",
              "      border-right-color: var(--fill-color);\n",
              "      border-top-color: var(--fill-color);\n",
              "    }\n",
              "    60% {\n",
              "      border-color: transparent;\n",
              "      border-right-color: var(--fill-color);\n",
              "    }\n",
              "    80% {\n",
              "      border-color: transparent;\n",
              "      border-right-color: var(--fill-color);\n",
              "      border-bottom-color: var(--fill-color);\n",
              "    }\n",
              "    90% {\n",
              "      border-color: transparent;\n",
              "      border-bottom-color: var(--fill-color);\n",
              "    }\n",
              "  }\n",
              "</style>\n",
              "\n",
              "  <script>\n",
              "    async function quickchart(key) {\n",
              "      const quickchartButtonEl =\n",
              "        document.querySelector('#' + key + ' button');\n",
              "      quickchartButtonEl.disabled = true;  // To prevent multiple clicks.\n",
              "      quickchartButtonEl.classList.add('colab-df-spinner');\n",
              "      try {\n",
              "        const charts = await google.colab.kernel.invokeFunction(\n",
              "            'suggestCharts', [key], {});\n",
              "      } catch (error) {\n",
              "        console.error('Error during call to suggestCharts:', error);\n",
              "      }\n",
              "      quickchartButtonEl.classList.remove('colab-df-spinner');\n",
              "      quickchartButtonEl.classList.add('colab-df-quickchart-complete');\n",
              "    }\n",
              "    (() => {\n",
              "      let quickchartButtonEl =\n",
              "        document.querySelector('#df-e50c8f89-8fc4-4aff-9788-93041bb3efbf button');\n",
              "      quickchartButtonEl.style.display =\n",
              "        google.colab.kernel.accessAllowed ? 'block' : 'none';\n",
              "    })();\n",
              "  </script>\n",
              "</div>\n",
              "\n",
              "    </div>\n",
              "  </div>\n"
            ],
            "application/vnd.google.colaboratory.intrinsic+json": {
              "type": "dataframe",
              "summary": "{\n  \"name\": \"df\",\n  \"rows\": 10,\n  \"fields\": [\n    {\n      \"column\": \"Address\",\n      \"properties\": {\n        \"dtype\": \"string\",\n        \"num_unique_values\": 10,\n        \"samples\": [\n          \"0096 English Rest\\nRoystad, IA 12457\",\n          \"PSC 8165, Box 8498\\nAPO AP 60327-0346\",\n          \"966 Castaneda Locks\\nWest Juliafurt, CO 96415\"\n        ],\n        \"semantic_type\": \"\",\n        \"description\": \"\"\n      }\n    },\n    {\n      \"column\": \"Lot\",\n      \"properties\": {\n        \"dtype\": \"string\",\n        \"num_unique_values\": 10,\n        \"samples\": [\n          \"74 cL\",\n          \"50 dA\",\n          \"92 XI\"\n        ],\n        \"semantic_type\": \"\",\n        \"description\": \"\"\n      }\n    },\n    {\n      \"column\": \"AM or PM\",\n      \"properties\": {\n        \"dtype\": \"category\",\n        \"num_unique_values\": 2,\n        \"samples\": [\n          \"AM\",\n          \"PM\"\n        ],\n        \"semantic_type\": \"\",\n        \"description\": \"\"\n      }\n    },\n    {\n      \"column\": \"Browser Info\",\n      \"properties\": {\n        \"dtype\": \"string\",\n        \"num_unique_values\": 10,\n        \"samples\": [\n          \"Mozilla/5.0 (Macintosh; Intel Mac OS X 10_8_8; rv:1.9.6.20) Gecko/2014-05-17 01:11:58 Firefox/3.6.13\",\n          \"Mozilla/5.0 (compatible; MSIE 8.0; Windows NT 5.2; Trident/3.1)\"\n        ],\n        \"semantic_type\": \"\",\n        \"description\": \"\"\n      }\n    },\n    {\n      \"column\": \"Company\",\n      \"properties\": {\n        \"dtype\": \"string\",\n        \"num_unique_values\": 10,\n        \"samples\": [\n          \"Cook Inc\",\n          \"Snyder Inc\"\n        ],\n        \"semantic_type\": \"\",\n        \"description\": \"\"\n      }\n    },\n    {\n      \"column\": \"Credit Card\",\n      \"properties\": {\n        \"dtype\": \"number\",\n        \"std\": 2283623246317793,\n        \"min\": 30025560104631,\n        \"max\": 6011539787356311,\n        \"num_unique_values\": 10,\n        \"samples\": [\n          180003348082930,\n          4221582137197481\n        ],\n        \"semantic_type\": \"\",\n        \"description\": \"\"\n      }\n    },\n    {\n      \"column\": \"CC Exp Date\",\n      \"properties\": {\n        \"dtype\": \"string\",\n        \"num_unique_values\": 10,\n        \"samples\": [\n          \"11/17\",\n          \"02/24\"\n        ],\n        \"semantic_type\": \"\",\n        \"description\": \"\"\n      }\n    },\n    {\n      \"column\": \"CC Security Code\",\n      \"properties\": {\n        \"dtype\": \"number\",\n        \"std\": 519,\n        \"min\": 1,\n        \"max\": 1823,\n        \"num_unique_values\": 10,\n        \"samples\": [\n          987,\n          969\n        ],\n        \"semantic_type\": \"\",\n        \"description\": \"\"\n      }\n    },\n    {\n      \"column\": \"CC Provider\",\n      \"properties\": {\n        \"dtype\": \"string\",\n        \"num_unique_values\": 7,\n        \"samples\": [\n          \"JCB 15 digit\",\n          \"Voyager\"\n        ],\n        \"semantic_type\": \"\",\n        \"description\": \"\"\n      }\n    },\n    {\n      \"column\": \"Email\",\n      \"properties\": {\n        \"dtype\": \"string\",\n        \"num_unique_values\": 10,\n        \"samples\": [\n          \"elizabethmoore@reid.net\",\n          \"kking@wise-liu.com\"\n        ],\n        \"semantic_type\": \"\",\n        \"description\": \"\"\n      }\n    },\n    {\n      \"column\": \"Job\",\n      \"properties\": {\n        \"dtype\": \"string\",\n        \"num_unique_values\": 10,\n        \"samples\": [\n          \"Local government officer\",\n          \"IT sales professional\"\n        ],\n        \"semantic_type\": \"\",\n        \"description\": \"\"\n      }\n    },\n    {\n      \"column\": \"IP Address\",\n      \"properties\": {\n        \"dtype\": \"string\",\n        \"num_unique_values\": 10,\n        \"samples\": [\n          \"55.78.26.143\",\n          \"254.25.31.156\"\n        ],\n        \"semantic_type\": \"\",\n        \"description\": \"\"\n      }\n    },\n    {\n      \"column\": \"Language\",\n      \"properties\": {\n        \"dtype\": \"string\",\n        \"num_unique_values\": 7,\n        \"samples\": [\n          \"ru\",\n          \"el\"\n        ],\n        \"semantic_type\": \"\",\n        \"description\": \"\"\n      }\n    },\n    {\n      \"column\": \"Purchase Price\",\n      \"properties\": {\n        \"dtype\": \"number\",\n        \"std\": 25.14490991124137,\n        \"min\": 18.35,\n        \"max\": 83.98,\n        \"num_unique_values\": 10,\n        \"samples\": [\n          38.84,\n          25.93\n        ],\n        \"semantic_type\": \"\",\n        \"description\": \"\"\n      }\n    }\n  ]\n}"
            }
          },
          "metadata": {},
          "execution_count": 4
        }
      ]
    },
    {
      "cell_type": "code",
      "source": [
        "# Get the Information about the Dataset including columns and rows\n",
        "df.info()"
      ],
      "metadata": {
        "colab": {
          "base_uri": "https://localhost:8080/"
        },
        "id": "7NhlbrLxwuxP",
        "outputId": "4dfe71c6-10ac-475c-f985-4c79e2fc3708"
      },
      "execution_count": 5,
      "outputs": [
        {
          "output_type": "stream",
          "name": "stdout",
          "text": [
            "<class 'pandas.core.frame.DataFrame'>\n",
            "RangeIndex: 10000 entries, 0 to 9999\n",
            "Data columns (total 14 columns):\n",
            " #   Column            Non-Null Count  Dtype  \n",
            "---  ------            --------------  -----  \n",
            " 0   Address           10000 non-null  object \n",
            " 1   Lot               10000 non-null  object \n",
            " 2   AM or PM          10000 non-null  object \n",
            " 3   Browser Info      10000 non-null  object \n",
            " 4   Company           10000 non-null  object \n",
            " 5   Credit Card       10000 non-null  int64  \n",
            " 6   CC Exp Date       10000 non-null  object \n",
            " 7   CC Security Code  10000 non-null  int64  \n",
            " 8   CC Provider       10000 non-null  object \n",
            " 9   Email             10000 non-null  object \n",
            " 10  Job               10000 non-null  object \n",
            " 11  IP Address        10000 non-null  object \n",
            " 12  Language          10000 non-null  object \n",
            " 13  Purchase Price    10000 non-null  float64\n",
            "dtypes: float64(1), int64(2), object(11)\n",
            "memory usage: 1.1+ MB\n"
          ]
        }
      ]
    },
    {
      "cell_type": "code",
      "source": [
        "# Check For Missing Values\n",
        "df.isnull().sum()"
      ],
      "metadata": {
        "colab": {
          "base_uri": "https://localhost:8080/"
        },
        "id": "vCYinPg-w_WA",
        "outputId": "fcb1aaa9-4e5c-47ea-a5f7-e83e30469f86"
      },
      "execution_count": 6,
      "outputs": [
        {
          "output_type": "execute_result",
          "data": {
            "text/plain": [
              "Address             0\n",
              "Lot                 0\n",
              "AM or PM            0\n",
              "Browser Info        0\n",
              "Company             0\n",
              "Credit Card         0\n",
              "CC Exp Date         0\n",
              "CC Security Code    0\n",
              "CC Provider         0\n",
              "Email               0\n",
              "Job                 0\n",
              "IP Address          0\n",
              "Language            0\n",
              "Purchase Price      0\n",
              "dtype: int64"
            ]
          },
          "metadata": {},
          "execution_count": 6
        }
      ]
    },
    {
      "cell_type": "markdown",
      "source": [
        "# **Step 2: Data Cleaning**"
      ],
      "metadata": {
        "id": "_mb6S4c_xNlq"
      }
    },
    {
      "cell_type": "code",
      "source": [
        "# Ensure correct Data types\n",
        "df.dtypes"
      ],
      "metadata": {
        "colab": {
          "base_uri": "https://localhost:8080/"
        },
        "id": "51bqtB3wygL9",
        "outputId": "a2457087-3f28-4e69-9b1a-dc06e509a1b1"
      },
      "execution_count": 7,
      "outputs": [
        {
          "output_type": "execute_result",
          "data": {
            "text/plain": [
              "Address              object\n",
              "Lot                  object\n",
              "AM or PM             object\n",
              "Browser Info         object\n",
              "Company              object\n",
              "Credit Card           int64\n",
              "CC Exp Date          object\n",
              "CC Security Code      int64\n",
              "CC Provider          object\n",
              "Email                object\n",
              "Job                  object\n",
              "IP Address           object\n",
              "Language             object\n",
              "Purchase Price      float64\n",
              "dtype: object"
            ]
          },
          "metadata": {},
          "execution_count": 7
        }
      ]
    },
    {
      "cell_type": "code",
      "source": [
        "# Fill missing values or drop rows/columns with missing values\n",
        "df = df.dropna()  # This is a simple approach; more sophisticated methods can be used"
      ],
      "metadata": {
        "id": "DuRalccqypCA"
      },
      "execution_count": 10,
      "outputs": []
    },
    {
      "cell_type": "markdown",
      "source": [
        "# **Step 3: Descriptive Statistics**"
      ],
      "metadata": {
        "id": "8eon3zf00F8g"
      }
    },
    {
      "cell_type": "code",
      "source": [
        "# Summary statistics\n",
        "df.describe()"
      ],
      "metadata": {
        "colab": {
          "base_uri": "https://localhost:8080/",
          "height": 300
        },
        "id": "24wZm2d7zYKe",
        "outputId": "5541d8d6-6951-434e-be22-1404f8645739"
      },
      "execution_count": 11,
      "outputs": [
        {
          "output_type": "execute_result",
          "data": {
            "text/plain": [
              "        Credit Card  CC Security Code  Purchase Price\n",
              "count  1.000000e+04      10000.000000    10000.000000\n",
              "mean   2.341374e+15        907.217800       50.347302\n",
              "std    2.256103e+15       1589.693035       29.015836\n",
              "min    6.040186e+10          0.000000        0.000000\n",
              "25%    3.056322e+13        280.000000       25.150000\n",
              "50%    8.699942e+14        548.000000       50.505000\n",
              "75%    4.492298e+15        816.000000       75.770000\n",
              "max    6.012000e+15       9993.000000       99.990000"
            ],
            "text/html": [
              "\n",
              "  <div id=\"df-f8998719-16b2-45c3-90f8-4f88db0d4016\" class=\"colab-df-container\">\n",
              "    <div>\n",
              "<style scoped>\n",
              "    .dataframe tbody tr th:only-of-type {\n",
              "        vertical-align: middle;\n",
              "    }\n",
              "\n",
              "    .dataframe tbody tr th {\n",
              "        vertical-align: top;\n",
              "    }\n",
              "\n",
              "    .dataframe thead th {\n",
              "        text-align: right;\n",
              "    }\n",
              "</style>\n",
              "<table border=\"1\" class=\"dataframe\">\n",
              "  <thead>\n",
              "    <tr style=\"text-align: right;\">\n",
              "      <th></th>\n",
              "      <th>Credit Card</th>\n",
              "      <th>CC Security Code</th>\n",
              "      <th>Purchase Price</th>\n",
              "    </tr>\n",
              "  </thead>\n",
              "  <tbody>\n",
              "    <tr>\n",
              "      <th>count</th>\n",
              "      <td>1.000000e+04</td>\n",
              "      <td>10000.000000</td>\n",
              "      <td>10000.000000</td>\n",
              "    </tr>\n",
              "    <tr>\n",
              "      <th>mean</th>\n",
              "      <td>2.341374e+15</td>\n",
              "      <td>907.217800</td>\n",
              "      <td>50.347302</td>\n",
              "    </tr>\n",
              "    <tr>\n",
              "      <th>std</th>\n",
              "      <td>2.256103e+15</td>\n",
              "      <td>1589.693035</td>\n",
              "      <td>29.015836</td>\n",
              "    </tr>\n",
              "    <tr>\n",
              "      <th>min</th>\n",
              "      <td>6.040186e+10</td>\n",
              "      <td>0.000000</td>\n",
              "      <td>0.000000</td>\n",
              "    </tr>\n",
              "    <tr>\n",
              "      <th>25%</th>\n",
              "      <td>3.056322e+13</td>\n",
              "      <td>280.000000</td>\n",
              "      <td>25.150000</td>\n",
              "    </tr>\n",
              "    <tr>\n",
              "      <th>50%</th>\n",
              "      <td>8.699942e+14</td>\n",
              "      <td>548.000000</td>\n",
              "      <td>50.505000</td>\n",
              "    </tr>\n",
              "    <tr>\n",
              "      <th>75%</th>\n",
              "      <td>4.492298e+15</td>\n",
              "      <td>816.000000</td>\n",
              "      <td>75.770000</td>\n",
              "    </tr>\n",
              "    <tr>\n",
              "      <th>max</th>\n",
              "      <td>6.012000e+15</td>\n",
              "      <td>9993.000000</td>\n",
              "      <td>99.990000</td>\n",
              "    </tr>\n",
              "  </tbody>\n",
              "</table>\n",
              "</div>\n",
              "    <div class=\"colab-df-buttons\">\n",
              "\n",
              "  <div class=\"colab-df-container\">\n",
              "    <button class=\"colab-df-convert\" onclick=\"convertToInteractive('df-f8998719-16b2-45c3-90f8-4f88db0d4016')\"\n",
              "            title=\"Convert this dataframe to an interactive table.\"\n",
              "            style=\"display:none;\">\n",
              "\n",
              "  <svg xmlns=\"http://www.w3.org/2000/svg\" height=\"24px\" viewBox=\"0 -960 960 960\">\n",
              "    <path d=\"M120-120v-720h720v720H120Zm60-500h600v-160H180v160Zm220 220h160v-160H400v160Zm0 220h160v-160H400v160ZM180-400h160v-160H180v160Zm440 0h160v-160H620v160ZM180-180h160v-160H180v160Zm440 0h160v-160H620v160Z\"/>\n",
              "  </svg>\n",
              "    </button>\n",
              "\n",
              "  <style>\n",
              "    .colab-df-container {\n",
              "      display:flex;\n",
              "      gap: 12px;\n",
              "    }\n",
              "\n",
              "    .colab-df-convert {\n",
              "      background-color: #E8F0FE;\n",
              "      border: none;\n",
              "      border-radius: 50%;\n",
              "      cursor: pointer;\n",
              "      display: none;\n",
              "      fill: #1967D2;\n",
              "      height: 32px;\n",
              "      padding: 0 0 0 0;\n",
              "      width: 32px;\n",
              "    }\n",
              "\n",
              "    .colab-df-convert:hover {\n",
              "      background-color: #E2EBFA;\n",
              "      box-shadow: 0px 1px 2px rgba(60, 64, 67, 0.3), 0px 1px 3px 1px rgba(60, 64, 67, 0.15);\n",
              "      fill: #174EA6;\n",
              "    }\n",
              "\n",
              "    .colab-df-buttons div {\n",
              "      margin-bottom: 4px;\n",
              "    }\n",
              "\n",
              "    [theme=dark] .colab-df-convert {\n",
              "      background-color: #3B4455;\n",
              "      fill: #D2E3FC;\n",
              "    }\n",
              "\n",
              "    [theme=dark] .colab-df-convert:hover {\n",
              "      background-color: #434B5C;\n",
              "      box-shadow: 0px 1px 3px 1px rgba(0, 0, 0, 0.15);\n",
              "      filter: drop-shadow(0px 1px 2px rgba(0, 0, 0, 0.3));\n",
              "      fill: #FFFFFF;\n",
              "    }\n",
              "  </style>\n",
              "\n",
              "    <script>\n",
              "      const buttonEl =\n",
              "        document.querySelector('#df-f8998719-16b2-45c3-90f8-4f88db0d4016 button.colab-df-convert');\n",
              "      buttonEl.style.display =\n",
              "        google.colab.kernel.accessAllowed ? 'block' : 'none';\n",
              "\n",
              "      async function convertToInteractive(key) {\n",
              "        const element = document.querySelector('#df-f8998719-16b2-45c3-90f8-4f88db0d4016');\n",
              "        const dataTable =\n",
              "          await google.colab.kernel.invokeFunction('convertToInteractive',\n",
              "                                                    [key], {});\n",
              "        if (!dataTable) return;\n",
              "\n",
              "        const docLinkHtml = 'Like what you see? Visit the ' +\n",
              "          '<a target=\"_blank\" href=https://colab.research.google.com/notebooks/data_table.ipynb>data table notebook</a>'\n",
              "          + ' to learn more about interactive tables.';\n",
              "        element.innerHTML = '';\n",
              "        dataTable['output_type'] = 'display_data';\n",
              "        await google.colab.output.renderOutput(dataTable, element);\n",
              "        const docLink = document.createElement('div');\n",
              "        docLink.innerHTML = docLinkHtml;\n",
              "        element.appendChild(docLink);\n",
              "      }\n",
              "    </script>\n",
              "  </div>\n",
              "\n",
              "\n",
              "<div id=\"df-c62f50e1-2ff5-4f72-842f-44e8f95a289c\">\n",
              "  <button class=\"colab-df-quickchart\" onclick=\"quickchart('df-c62f50e1-2ff5-4f72-842f-44e8f95a289c')\"\n",
              "            title=\"Suggest charts\"\n",
              "            style=\"display:none;\">\n",
              "\n",
              "<svg xmlns=\"http://www.w3.org/2000/svg\" height=\"24px\"viewBox=\"0 0 24 24\"\n",
              "     width=\"24px\">\n",
              "    <g>\n",
              "        <path d=\"M19 3H5c-1.1 0-2 .9-2 2v14c0 1.1.9 2 2 2h14c1.1 0 2-.9 2-2V5c0-1.1-.9-2-2-2zM9 17H7v-7h2v7zm4 0h-2V7h2v10zm4 0h-2v-4h2v4z\"/>\n",
              "    </g>\n",
              "</svg>\n",
              "  </button>\n",
              "\n",
              "<style>\n",
              "  .colab-df-quickchart {\n",
              "      --bg-color: #E8F0FE;\n",
              "      --fill-color: #1967D2;\n",
              "      --hover-bg-color: #E2EBFA;\n",
              "      --hover-fill-color: #174EA6;\n",
              "      --disabled-fill-color: #AAA;\n",
              "      --disabled-bg-color: #DDD;\n",
              "  }\n",
              "\n",
              "  [theme=dark] .colab-df-quickchart {\n",
              "      --bg-color: #3B4455;\n",
              "      --fill-color: #D2E3FC;\n",
              "      --hover-bg-color: #434B5C;\n",
              "      --hover-fill-color: #FFFFFF;\n",
              "      --disabled-bg-color: #3B4455;\n",
              "      --disabled-fill-color: #666;\n",
              "  }\n",
              "\n",
              "  .colab-df-quickchart {\n",
              "    background-color: var(--bg-color);\n",
              "    border: none;\n",
              "    border-radius: 50%;\n",
              "    cursor: pointer;\n",
              "    display: none;\n",
              "    fill: var(--fill-color);\n",
              "    height: 32px;\n",
              "    padding: 0;\n",
              "    width: 32px;\n",
              "  }\n",
              "\n",
              "  .colab-df-quickchart:hover {\n",
              "    background-color: var(--hover-bg-color);\n",
              "    box-shadow: 0 1px 2px rgba(60, 64, 67, 0.3), 0 1px 3px 1px rgba(60, 64, 67, 0.15);\n",
              "    fill: var(--button-hover-fill-color);\n",
              "  }\n",
              "\n",
              "  .colab-df-quickchart-complete:disabled,\n",
              "  .colab-df-quickchart-complete:disabled:hover {\n",
              "    background-color: var(--disabled-bg-color);\n",
              "    fill: var(--disabled-fill-color);\n",
              "    box-shadow: none;\n",
              "  }\n",
              "\n",
              "  .colab-df-spinner {\n",
              "    border: 2px solid var(--fill-color);\n",
              "    border-color: transparent;\n",
              "    border-bottom-color: var(--fill-color);\n",
              "    animation:\n",
              "      spin 1s steps(1) infinite;\n",
              "  }\n",
              "\n",
              "  @keyframes spin {\n",
              "    0% {\n",
              "      border-color: transparent;\n",
              "      border-bottom-color: var(--fill-color);\n",
              "      border-left-color: var(--fill-color);\n",
              "    }\n",
              "    20% {\n",
              "      border-color: transparent;\n",
              "      border-left-color: var(--fill-color);\n",
              "      border-top-color: var(--fill-color);\n",
              "    }\n",
              "    30% {\n",
              "      border-color: transparent;\n",
              "      border-left-color: var(--fill-color);\n",
              "      border-top-color: var(--fill-color);\n",
              "      border-right-color: var(--fill-color);\n",
              "    }\n",
              "    40% {\n",
              "      border-color: transparent;\n",
              "      border-right-color: var(--fill-color);\n",
              "      border-top-color: var(--fill-color);\n",
              "    }\n",
              "    60% {\n",
              "      border-color: transparent;\n",
              "      border-right-color: var(--fill-color);\n",
              "    }\n",
              "    80% {\n",
              "      border-color: transparent;\n",
              "      border-right-color: var(--fill-color);\n",
              "      border-bottom-color: var(--fill-color);\n",
              "    }\n",
              "    90% {\n",
              "      border-color: transparent;\n",
              "      border-bottom-color: var(--fill-color);\n",
              "    }\n",
              "  }\n",
              "</style>\n",
              "\n",
              "  <script>\n",
              "    async function quickchart(key) {\n",
              "      const quickchartButtonEl =\n",
              "        document.querySelector('#' + key + ' button');\n",
              "      quickchartButtonEl.disabled = true;  // To prevent multiple clicks.\n",
              "      quickchartButtonEl.classList.add('colab-df-spinner');\n",
              "      try {\n",
              "        const charts = await google.colab.kernel.invokeFunction(\n",
              "            'suggestCharts', [key], {});\n",
              "      } catch (error) {\n",
              "        console.error('Error during call to suggestCharts:', error);\n",
              "      }\n",
              "      quickchartButtonEl.classList.remove('colab-df-spinner');\n",
              "      quickchartButtonEl.classList.add('colab-df-quickchart-complete');\n",
              "    }\n",
              "    (() => {\n",
              "      let quickchartButtonEl =\n",
              "        document.querySelector('#df-c62f50e1-2ff5-4f72-842f-44e8f95a289c button');\n",
              "      quickchartButtonEl.style.display =\n",
              "        google.colab.kernel.accessAllowed ? 'block' : 'none';\n",
              "    })();\n",
              "  </script>\n",
              "</div>\n",
              "\n",
              "    </div>\n",
              "  </div>\n"
            ],
            "application/vnd.google.colaboratory.intrinsic+json": {
              "type": "dataframe",
              "summary": "{\n  \"name\": \"df\",\n  \"rows\": 8,\n  \"fields\": [\n    {\n      \"column\": \"Credit Card\",\n      \"properties\": {\n        \"dtype\": \"number\",\n        \"std\": 2256583004093399.0,\n        \"min\": 10000.0,\n        \"max\": 6011999761615928.0,\n        \"num_unique_values\": 8,\n        \"samples\": [\n          2341373942652652.0,\n          869994171540613.5,\n          10000.0\n        ],\n        \"semantic_type\": \"\",\n        \"description\": \"\"\n      }\n    },\n    {\n      \"column\": \"CC Security Code\",\n      \"properties\": {\n        \"dtype\": \"number\",\n        \"std\": 4333.409587290195,\n        \"min\": 0.0,\n        \"max\": 10000.0,\n        \"num_unique_values\": 8,\n        \"samples\": [\n          907.2178,\n          548.0,\n          10000.0\n        ],\n        \"semantic_type\": \"\",\n        \"description\": \"\"\n      }\n    },\n    {\n      \"column\": \"Purchase Price\",\n      \"properties\": {\n        \"dtype\": \"number\",\n        \"std\": 3518.9624489984462,\n        \"min\": 0.0,\n        \"max\": 10000.0,\n        \"num_unique_values\": 8,\n        \"samples\": [\n          50.347302,\n          50.504999999999995,\n          10000.0\n        ],\n        \"semantic_type\": \"\",\n        \"description\": \"\"\n      }\n    }\n  ]\n}"
            }
          },
          "metadata": {},
          "execution_count": 11
        }
      ]
    },
    {
      "cell_type": "markdown",
      "source": [
        "### **`Total and average sales`**"
      ],
      "metadata": {
        "id": "gaVwcgeK13xP"
      }
    },
    {
      "cell_type": "code",
      "source": [
        "# Total  sales\n",
        "total_sales=df['Purchase Price'].sum()\n",
        "total_sales"
      ],
      "metadata": {
        "colab": {
          "base_uri": "https://localhost:8080/"
        },
        "id": "s8QKvilV0QNY",
        "outputId": "231e184d-7dfe-4807-d97d-6c28ad208603"
      },
      "execution_count": 16,
      "outputs": [
        {
          "output_type": "execute_result",
          "data": {
            "text/plain": [
              "503473.02"
            ]
          },
          "metadata": {},
          "execution_count": 16
        }
      ]
    },
    {
      "cell_type": "code",
      "source": [
        "# average sales\n",
        "average_sales=df['Purchase Price'].mean()\n",
        "average_sales"
      ],
      "metadata": {
        "colab": {
          "base_uri": "https://localhost:8080/"
        },
        "id": "7XMWZD7x1nFA",
        "outputId": "2a5c084f-3a1b-42f0-ad69-513d1faa0dfe"
      },
      "execution_count": 17,
      "outputs": [
        {
          "output_type": "execute_result",
          "data": {
            "text/plain": [
              "50.347302"
            ]
          },
          "metadata": {},
          "execution_count": 17
        }
      ]
    },
    {
      "cell_type": "code",
      "source": [
        "print('Total Sales:', total_sales)\n",
        "print('Average Sales:', average_sales)"
      ],
      "metadata": {
        "colab": {
          "base_uri": "https://localhost:8080/"
        },
        "id": "5CGNyIWA2XRy",
        "outputId": "f498baea-2b4e-4a80-b8af-b3d421671dff"
      },
      "execution_count": 18,
      "outputs": [
        {
          "output_type": "stream",
          "name": "stdout",
          "text": [
            "Total Sales: 503473.02\n",
            "Average Sales: 50.347302\n"
          ]
        }
      ]
    },
    {
      "cell_type": "markdown",
      "source": [
        "# **Step 4: Customer Analysis**"
      ],
      "metadata": {
        "id": "QeNtPO1y8_dE"
      }
    },
    {
      "cell_type": "markdown",
      "source": [
        "### **1.Unique customers**"
      ],
      "metadata": {
        "id": "6j04Cvtb2r64"
      }
    },
    {
      "cell_type": "code",
      "source": [
        "# Unique Customers Emails\n",
        "unique_customers=df['Email'].nunique()\n",
        "unique_customers"
      ],
      "metadata": {
        "colab": {
          "base_uri": "https://localhost:8080/"
        },
        "id": "iwNsj6tl2pC6",
        "outputId": "7e295afe-9033-4307-e7d3-f4a3ef03f20f"
      },
      "execution_count": 19,
      "outputs": [
        {
          "output_type": "execute_result",
          "data": {
            "text/plain": [
              "9954"
            ]
          },
          "metadata": {},
          "execution_count": 19
        }
      ]
    },
    {
      "cell_type": "code",
      "source": [
        "df.columns"
      ],
      "metadata": {
        "colab": {
          "base_uri": "https://localhost:8080/"
        },
        "id": "yx4uZVlZ3Eb4",
        "outputId": "9fe94a71-56c7-41b2-efb3-4d479e00177e"
      },
      "execution_count": 20,
      "outputs": [
        {
          "output_type": "execute_result",
          "data": {
            "text/plain": [
              "Index(['Address', 'Lot', 'AM or PM', 'Browser Info', 'Company', 'Credit Card',\n",
              "       'CC Exp Date', 'CC Security Code', 'CC Provider', 'Email', 'Job',\n",
              "       'IP Address', 'Language', 'Purchase Price'],\n",
              "      dtype='object')"
            ]
          },
          "metadata": {},
          "execution_count": 20
        }
      ]
    },
    {
      "cell_type": "markdown",
      "source": [
        "### **2. Customer Demographics and Behavior Analysis**"
      ],
      "metadata": {
        "id": "1YbSzFWs9SOz"
      }
    },
    {
      "cell_type": "code",
      "source": [
        "# Common languages spoken by customers\n",
        "common_languages =df['Language'].value_counts()\n",
        "print('Common Langauges:\\n',common_languages)\n"
      ],
      "metadata": {
        "colab": {
          "base_uri": "https://localhost:8080/"
        },
        "id": "YWbqmhEK3IQC",
        "outputId": "8f807892-ebe5-4b8e-941f-6da122035d8c"
      },
      "execution_count": 24,
      "outputs": [
        {
          "output_type": "stream",
          "name": "stdout",
          "text": [
            "Common Langauges:\n",
            " Language\n",
            "de    1155\n",
            "ru    1155\n",
            "el    1137\n",
            "pt    1118\n",
            "en    1098\n",
            "fr    1097\n",
            "es    1095\n",
            "it    1086\n",
            "zh    1059\n",
            "Name: count, dtype: int64\n"
          ]
        }
      ]
    },
    {
      "cell_type": "code",
      "source": [
        "# Least languages spoken by min customers\n",
        "least_languages=df['Language'].value_counts().tail(2)\n",
        "print('Least Langauges:\\n',least_languages)"
      ],
      "metadata": {
        "colab": {
          "base_uri": "https://localhost:8080/"
        },
        "id": "mwpw17c8CrL0",
        "outputId": "e49c7cce-573b-47f7-e808-d92c766502b2"
      },
      "execution_count": 39,
      "outputs": [
        {
          "output_type": "stream",
          "name": "stdout",
          "text": [
            "Least Langauges:\n",
            " Language\n",
            "it    1086\n",
            "zh    1059\n",
            "Name: count, dtype: int64\n"
          ]
        }
      ]
    },
    {
      "cell_type": "code",
      "source": [
        "# Common job titles among customers\n",
        "common_job_titles=df['Job'].value_counts()\n",
        "print('Common Job Titles:\\n',common_job_titles)"
      ],
      "metadata": {
        "colab": {
          "base_uri": "https://localhost:8080/"
        },
        "id": "0lzGB-4v54kp",
        "outputId": "fdecc687-cf5e-4112-9e94-3a1a913090af"
      },
      "execution_count": 25,
      "outputs": [
        {
          "output_type": "stream",
          "name": "stdout",
          "text": [
            "Common Job Titles:\n",
            " Job\n",
            "Interior and spatial designer    31\n",
            "Lawyer                           30\n",
            "Social researcher                28\n",
            "Purchasing manager               27\n",
            "Designer, jewellery              27\n",
            "                                 ..\n",
            "Prison officer                    7\n",
            "Editor, film/video                6\n",
            "Actuary                           6\n",
            "Information systems manager       5\n",
            "Investment analyst                5\n",
            "Name: count, Length: 623, dtype: int64\n"
          ]
        }
      ]
    },
    {
      "cell_type": "code",
      "source": [
        "#Job Title Contains Engineer\n",
        "df['Job'].str.contains('engineer',case=False).sum()"
      ],
      "metadata": {
        "colab": {
          "base_uri": "https://localhost:8080/"
        },
        "id": "DI9AqlSaEMYW",
        "outputId": "cd48ff4f-6735-4c3b-c953-c47775660384"
      },
      "execution_count": 40,
      "outputs": [
        {
          "output_type": "execute_result",
          "data": {
            "text/plain": [
              "984"
            ]
          },
          "metadata": {},
          "execution_count": 40
        }
      ]
    },
    {
      "cell_type": "code",
      "source": [
        "# Geographic locations with highest concentration of customers\n",
        "geographic_locations=df['Address'].value_counts()\n",
        "print('Geographic Locations:\\n',geographic_locations)"
      ],
      "metadata": {
        "colab": {
          "base_uri": "https://localhost:8080/"
        },
        "id": "cTFuz31p-ZYb",
        "outputId": "0ffa7c12-4d76-425a-e00e-ca32f0e0e1d1"
      },
      "execution_count": 135,
      "outputs": [
        {
          "output_type": "stream",
          "name": "stdout",
          "text": [
            "Geographic Locations:\n",
            " Address\n",
            "16629 Pace Camp Apt. 448\\nAlexisborough, NE 77130-7478    1\n",
            "3680 Collins Circles\\nSouth Ivan, OH 75006-6131           1\n",
            "PSC 6124, Box 2041\\nAPO AP 04262-3351                     1\n",
            "085 Harris Drive Suite 055\\nSouth Kyle, KS 12208          1\n",
            "55686 Gonzales Crossroad\\nEast Davidtown, WA 88408        1\n",
            "                                                         ..\n",
            "60514 Travis Extension\\nLake Natalie, FL 12091            1\n",
            "16017 Reynolds Spurs\\nJuliefort, WI 47836                 1\n",
            "4331 Baldwin Vista Apt. 360\\nClarkshire, NV 77543-3455    1\n",
            "27584 Sarah Glen Apt. 784\\nPort Laurenville, TN 53892     1\n",
            "40674 Barrett Stravenue\\nGrimesville, WI 79682            1\n",
            "Name: count, Length: 10000, dtype: int64\n"
          ]
        },
        {
          "output_type": "execute_result",
          "data": {
            "text/plain": [
              "Address\n",
              "16629 Pace Camp Apt. 448\\nAlexisborough, NE 77130-7478    1\n",
              "3680 Collins Circles\\nSouth Ivan, OH 75006-6131           1\n",
              "PSC 6124, Box 2041\\nAPO AP 04262-3351                     1\n",
              "085 Harris Drive Suite 055\\nSouth Kyle, KS 12208          1\n",
              "55686 Gonzales Crossroad\\nEast Davidtown, WA 88408        1\n",
              "Name: count, dtype: int64"
            ]
          },
          "metadata": {},
          "execution_count": 135
        }
      ]
    },
    {
      "cell_type": "markdown",
      "source": [
        "# **Step 4: Transaction Analysis**"
      ],
      "metadata": {
        "id": "iR2ylUz7BPKq"
      }
    },
    {
      "cell_type": "code",
      "source": [
        "# Number of Customers who have American Express Credit card and Purchased less than 90\n",
        "\n",
        "len(df[(df['CC Provider']== 'American Express') & (df['Purchase Price'] < 90)])\n"
      ],
      "metadata": {
        "colab": {
          "base_uri": "https://localhost:8080/"
        },
        "id": "8-u4C2dpBDrP",
        "outputId": "9fdb669f-eaf7-401e-e4f6-040b9f53a182"
      },
      "execution_count": 55,
      "outputs": [
        {
          "output_type": "execute_result",
          "data": {
            "text/plain": [
              "763"
            ]
          },
          "metadata": {},
          "execution_count": 55
        }
      ]
    },
    {
      "cell_type": "code",
      "source": [
        "#Find credit card number of this email Id mary85@hotmail.com\n",
        "df[df['Email']=='mary85@hotmail.com']['Credit Card']"
      ],
      "metadata": {
        "colab": {
          "base_uri": "https://localhost:8080/"
        },
        "id": "pfNfEJvbBtFe",
        "outputId": "80788bce-95fe-4896-9be8-48d0c2629c32"
      },
      "execution_count": 60,
      "outputs": [
        {
          "output_type": "execute_result",
          "data": {
            "text/plain": [
              "9996    210033169205009\n",
              "Name: Credit Card, dtype: int64"
            ]
          },
          "metadata": {},
          "execution_count": 60
        }
      ]
    },
    {
      "cell_type": "code",
      "source": [
        "# How Many people Purchasing at AM and How many at PM\n",
        "\n",
        "df['AM or PM'].value_counts()"
      ],
      "metadata": {
        "colab": {
          "base_uri": "https://localhost:8080/"
        },
        "id": "pt77yvCcKO4y",
        "outputId": "a3e93dc6-4d3f-4905-a095-2000e747dd32"
      },
      "execution_count": 61,
      "outputs": [
        {
          "output_type": "execute_result",
          "data": {
            "text/plain": [
              "AM or PM\n",
              "PM    5068\n",
              "AM    4932\n",
              "Name: count, dtype: int64"
            ]
          },
          "metadata": {},
          "execution_count": 61
        }
      ]
    },
    {
      "cell_type": "code",
      "source": [
        "am_pm_price_trends = df.groupby('AM or PM')['Purchase Price'].mean()\n",
        "print(\"AM/PM Price Trends:\\n\", am_pm_price_trends)\n"
      ],
      "metadata": {
        "colab": {
          "base_uri": "https://localhost:8080/"
        },
        "id": "lEeCz9dVLiaQ",
        "outputId": "fabc2688-6bfc-4f29-b6d8-003f1d8a0ead"
      },
      "execution_count": 62,
      "outputs": [
        {
          "output_type": "stream",
          "name": "stdout",
          "text": [
            "AM/PM Price Trends:\n",
            " AM or PM\n",
            "AM    50.186511\n",
            "PM    50.503779\n",
            "Name: Purchase Price, dtype: float64\n"
          ]
        }
      ]
    },
    {
      "cell_type": "code",
      "source": [
        "# Average purchase price per transaction\n",
        "average_purchase_price = df['Purchase Price'].mean()\n",
        "print(\"Average Purchase Price:\\n\", average_purchase_price)"
      ],
      "metadata": {
        "colab": {
          "base_uri": "https://localhost:8080/"
        },
        "id": "ntI0IM9rLpIl",
        "outputId": "e0766bdb-42e5-4395-c33b-104e40c63e9c"
      },
      "execution_count": 64,
      "outputs": [
        {
          "output_type": "stream",
          "name": "stdout",
          "text": [
            "Average Purchase Price:\n",
            " 50.347302\n"
          ]
        }
      ]
    },
    {
      "cell_type": "markdown",
      "source": [
        "# **Step 5: Payment Methods Analysis**"
      ],
      "metadata": {
        "id": "IYhDFF3xMWkl"
      }
    },
    {
      "cell_type": "code",
      "source": [
        "# Commonly used credit card providers\n",
        "df['CC Provider'].value_counts()"
      ],
      "metadata": {
        "colab": {
          "base_uri": "https://localhost:8080/"
        },
        "id": "OD4l_sAmMHBw",
        "outputId": "b2845591-79a6-4ea5-f1d8-bf37db0fb3ac"
      },
      "execution_count": 67,
      "outputs": [
        {
          "output_type": "execute_result",
          "data": {
            "text/plain": [
              "CC Provider\n",
              "JCB 16 digit                   1716\n",
              "VISA 16 digit                  1715\n",
              "JCB 15 digit                    868\n",
              "American Express                849\n",
              "Maestro                         846\n",
              "Voyager                         829\n",
              "Discover                        817\n",
              "Mastercard                      816\n",
              "VISA 13 digit                   777\n",
              "Diners Club / Carte Blanche     767\n",
              "Name: count, dtype: int64"
            ]
          },
          "metadata": {},
          "execution_count": 67
        }
      ]
    },
    {
      "cell_type": "code",
      "source": [
        "# Patterns in credit card usage based on purchase price\n",
        "cc_price_trends = df.groupby('CC Provider')['Purchase Price'].mean()\n",
        "print(\"Credit Card Price Trends:\\n\", cc_price_trends)"
      ],
      "metadata": {
        "colab": {
          "base_uri": "https://localhost:8080/"
        },
        "id": "SnC5nEbXMtau",
        "outputId": "3d9811e0-1246-46c4-ef52-072f45883f55"
      },
      "execution_count": 70,
      "outputs": [
        {
          "output_type": "stream",
          "name": "stdout",
          "text": [
            "Credit Card Price Trends:\n",
            " CC Provider\n",
            "American Express               50.489423\n",
            "Diners Club / Carte Blanche    48.733233\n",
            "Discover                       51.662338\n",
            "JCB 15 digit                   51.125115\n",
            "JCB 16 digit                   49.299143\n",
            "Maestro                        50.379173\n",
            "Mastercard                     50.043015\n",
            "VISA 13 digit                  51.449858\n",
            "VISA 16 digit                  49.871055\n",
            "Voyager                        51.973185\n",
            "Name: Purchase Price, dtype: float64\n"
          ]
        }
      ]
    },
    {
      "cell_type": "code",
      "source": [
        "df[(df['CC Provider']=='American Express')]['Purchase Price'].mean()"
      ],
      "metadata": {
        "colab": {
          "base_uri": "https://localhost:8080/"
        },
        "id": "7vnIJdzoNaQw",
        "outputId": "9b4b59ba-4e9d-4881-d6fc-d09825a87189"
      },
      "execution_count": 74,
      "outputs": [
        {
          "output_type": "execute_result",
          "data": {
            "text/plain": [
              "50.489422850412254"
            ]
          },
          "metadata": {},
          "execution_count": 74
        }
      ]
    },
    {
      "cell_type": "code",
      "source": [
        "# Distribution of credit card expiration dates\n",
        "cc_exp_date_distribution = df['CC Exp Date'].value_counts()\n",
        "print(\"Credit Card Expiration Date Distribution:\\n\", cc_exp_date_distribution)"
      ],
      "metadata": {
        "colab": {
          "base_uri": "https://localhost:8080/"
        },
        "id": "kdSXbIfkNoRU",
        "outputId": "6a4388be-a207-4da9-d9f6-cd36ac6862f5"
      },
      "execution_count": 75,
      "outputs": [
        {
          "output_type": "stream",
          "name": "stdout",
          "text": [
            "Credit Card Expiration Date Distribution:\n",
            " CC Exp Date\n",
            "08/22    108\n",
            "01/26    105\n",
            "04/19    105\n",
            "01/21    104\n",
            "01/19    103\n",
            "        ... \n",
            "12/22     67\n",
            "11/25     67\n",
            "10/25     64\n",
            "08/26     48\n",
            "08/16     39\n",
            "Name: count, Length: 121, dtype: int64\n"
          ]
        }
      ]
    },
    {
      "cell_type": "code",
      "source": [
        "# Find number of expired Credit card\n",
        "# Convert the 'CC Exp Date' column to a datetime format\n",
        "# Assuming the 'CC Exp Date' is in the format 'MM/YY'\n",
        "df['CC Exp Date'] = pd.to_datetime(df['CC Exp Date'], format='%m/%y')\n",
        "\n",
        "# Filter out credit cards expired before 2024\n",
        "expired_credit_cards = df[df['CC Exp Date'] < pd.to_datetime('2024-01-01')]\n",
        "\n",
        "# Count the number of expired credit cards\n",
        "num_expired_credit_cards = len(expired_credit_cards)\n",
        "\n",
        "print(\"Number of expired credit cards before 2024:\", num_expired_credit_cards)"
      ],
      "metadata": {
        "colab": {
          "base_uri": "https://localhost:8080/"
        },
        "id": "jtDAh6edPDqR",
        "outputId": "08f85a17-20d1-48cc-e5e8-7a4f17eda8b8"
      },
      "execution_count": 91,
      "outputs": [
        {
          "output_type": "stream",
          "name": "stdout",
          "text": [
            "Number of expired credit cards before 2024: 7321\n"
          ]
        }
      ]
    },
    {
      "cell_type": "markdown",
      "source": [
        "# **Step 6: Security and Fraud Prevention**"
      ],
      "metadata": {
        "id": "EkCrhCjHTXSN"
      }
    },
    {
      "cell_type": "code",
      "source": [
        "# # Patterns in IP addresses used for transactions\n",
        "ip_address_distribution = df['IP Address'].value_counts()\n",
        "print(\"IP Address Distribution:\\n\", ip_address_distribution)"
      ],
      "metadata": {
        "colab": {
          "base_uri": "https://localhost:8080/"
        },
        "id": "yBf3jACDQPwW",
        "outputId": "c76d3889-c7e1-46c0-dd51-66089921b66c"
      },
      "execution_count": 92,
      "outputs": [
        {
          "output_type": "stream",
          "name": "stdout",
          "text": [
            "IP Address Distribution:\n",
            " IP Address\n",
            "149.146.147.205    1\n",
            "240.90.167.52      1\n",
            "75.221.58.16       1\n",
            "242.70.5.214       1\n",
            "56.41.154.167      1\n",
            "                  ..\n",
            "25.239.139.93      1\n",
            "60.124.141.174     1\n",
            "164.212.156.218    1\n",
            "253.48.203.172     1\n",
            "176.119.198.199    1\n",
            "Name: count, Length: 10000, dtype: int64\n"
          ]
        }
      ]
    },
    {
      "cell_type": "code",
      "source": [
        "# Transactions from the same IP address\n",
        "frequent_ips = df['IP Address'].value_counts().loc[lambda x: x > 1]\n",
        "print(\"Frequent IPs:\\n\", frequent_ips)"
      ],
      "metadata": {
        "colab": {
          "base_uri": "https://localhost:8080/"
        },
        "id": "6CQ9lzjOUICS",
        "outputId": "641ea83b-cbb1-429b-c1b6-60f6ccbd77c7"
      },
      "execution_count": 93,
      "outputs": [
        {
          "output_type": "stream",
          "name": "stdout",
          "text": [
            "Frequent IPs:\n",
            " Series([], Name: count, dtype: int64)\n"
          ]
        }
      ]
    },
    {
      "cell_type": "code",
      "source": [],
      "metadata": {
        "id": "yJPxda-AUKrx"
      },
      "execution_count": null,
      "outputs": []
    },
    {
      "cell_type": "markdown",
      "source": [
        "# **Step 7: Company-Specific Insights**"
      ],
      "metadata": {
        "id": "xFQkqnh8UWUt"
      }
    },
    {
      "cell_type": "code",
      "source": [
        "# Companies generating the most revenue\n",
        "revenue_by_company = df.groupby('Company')['Purchase Price'].sum().sort_values(ascending=False)\n",
        "print(\"Revenue by Company:\\n\", revenue_by_company)\n",
        "\n"
      ],
      "metadata": {
        "colab": {
          "base_uri": "https://localhost:8080/"
        },
        "id": "uYHTM351Ugni",
        "outputId": "e2bd89a5-0a2a-4358-b797-122f2f071b86"
      },
      "execution_count": 97,
      "outputs": [
        {
          "output_type": "stream",
          "name": "stdout",
          "text": [
            "Revenue by Company:\n",
            " Company\n",
            "Brown Ltd                796.38\n",
            "Williams LLC             723.63\n",
            "Smith LLC                637.92\n",
            "Smith PLC                601.37\n",
            "Johnson Ltd              600.61\n",
            "                          ...  \n",
            "Washington-Johnson         0.03\n",
            "Armstrong PLC              0.02\n",
            "Sanchez-Stephenson         0.01\n",
            "Lyons, Diaz and Clark      0.00\n",
            "Flynn and Sons             0.00\n",
            "Name: Purchase Price, Length: 8653, dtype: float64\n"
          ]
        }
      ]
    },
    {
      "cell_type": "code",
      "source": [
        "# Job titles corresponding to higher purchase prices\n",
        "job_price_trends = df.groupby('Job')['Purchase Price'].mean().sort_values(ascending=False)\n",
        "print(\"Job Price Trends:\\n\", job_price_trends.head(5))"
      ],
      "metadata": {
        "colab": {
          "base_uri": "https://localhost:8080/"
        },
        "id": "0axao0aHV4js",
        "outputId": "25523d83-1deb-499d-c1f5-16cb796eb05e"
      },
      "execution_count": 102,
      "outputs": [
        {
          "output_type": "stream",
          "name": "stdout",
          "text": [
            "Job Price Trends:\n",
            " Job\n",
            "Trade mark attorney                 73.802727\n",
            "Translator                          70.777647\n",
            "Investment analyst                  69.090000\n",
            "Accountant, chartered management    69.082667\n",
            "Designer, industrial/product        68.714667\n",
            "Name: Purchase Price, dtype: float64\n"
          ]
        }
      ]
    },
    {
      "cell_type": "markdown",
      "source": [
        "# **Step 8: Customer Contact and Follow-Up**"
      ],
      "metadata": {
        "id": "gc3rlb-_XVd8"
      }
    },
    {
      "cell_type": "code",
      "source": [
        "# Most common email domains\n",
        "email_domains = df['Email'].apply(lambda x: x.split('@')[-1]).value_counts()\n",
        "print(\"Email Domains:\\n\", email_domains)\n",
        "#Store email_domains value in new column temp\n",
        "df['temp']=df['Email'].apply(lambda x: x.split('@')[-1])\n",
        "df.head(1)"
      ],
      "metadata": {
        "colab": {
          "base_uri": "https://localhost:8080/",
          "height": 448
        },
        "id": "WN5Le_nNXjt_",
        "outputId": "9a7c079d-660f-4888-c35f-3cc2df5d3418"
      },
      "execution_count": 116,
      "outputs": [
        {
          "output_type": "stream",
          "name": "stdout",
          "text": [
            "Email Domains:\n",
            " Email\n",
            "hotmail.com            1638\n",
            "yahoo.com              1616\n",
            "gmail.com              1605\n",
            "smith.com                42\n",
            "williams.com             37\n",
            "                       ... \n",
            "booker.com                1\n",
            "woods-allen.biz           1\n",
            "richards-wilson.com       1\n",
            "morris-thomas.com         1\n",
            "wade-garner.com           1\n",
            "Name: count, Length: 3416, dtype: int64\n"
          ]
        },
        {
          "output_type": "execute_result",
          "data": {
            "text/plain": [
              "                                             Address    Lot AM or PM  \\\n",
              "0  16629 Pace Camp Apt. 448\\nAlexisborough, NE 77...  46 in       PM   \n",
              "\n",
              "                                        Browser Info          Company  \\\n",
              "0  Opera/9.56.(X11; Linux x86_64; sl-SI) Presto/2...  Martinez-Herman   \n",
              "\n",
              "        Credit Card CC Exp Date  CC Security Code   CC Provider  \\\n",
              "0  6011929061123406  2020-02-01               900  JCB 16 digit   \n",
              "\n",
              "               Email                                     Job       IP Address  \\\n",
              "0  pdunlap@yahoo.com  Scientist, product/process development  149.146.147.205   \n",
              "\n",
              "  Language  Purchase Price       temp  \n",
              "0       el           98.14  yahoo.com  "
            ],
            "text/html": [
              "\n",
              "  <div id=\"df-c5915436-7be5-4187-8e62-67c6c86c4ca1\" class=\"colab-df-container\">\n",
              "    <div>\n",
              "<style scoped>\n",
              "    .dataframe tbody tr th:only-of-type {\n",
              "        vertical-align: middle;\n",
              "    }\n",
              "\n",
              "    .dataframe tbody tr th {\n",
              "        vertical-align: top;\n",
              "    }\n",
              "\n",
              "    .dataframe thead th {\n",
              "        text-align: right;\n",
              "    }\n",
              "</style>\n",
              "<table border=\"1\" class=\"dataframe\">\n",
              "  <thead>\n",
              "    <tr style=\"text-align: right;\">\n",
              "      <th></th>\n",
              "      <th>Address</th>\n",
              "      <th>Lot</th>\n",
              "      <th>AM or PM</th>\n",
              "      <th>Browser Info</th>\n",
              "      <th>Company</th>\n",
              "      <th>Credit Card</th>\n",
              "      <th>CC Exp Date</th>\n",
              "      <th>CC Security Code</th>\n",
              "      <th>CC Provider</th>\n",
              "      <th>Email</th>\n",
              "      <th>Job</th>\n",
              "      <th>IP Address</th>\n",
              "      <th>Language</th>\n",
              "      <th>Purchase Price</th>\n",
              "      <th>temp</th>\n",
              "    </tr>\n",
              "  </thead>\n",
              "  <tbody>\n",
              "    <tr>\n",
              "      <th>0</th>\n",
              "      <td>16629 Pace Camp Apt. 448\\nAlexisborough, NE 77...</td>\n",
              "      <td>46 in</td>\n",
              "      <td>PM</td>\n",
              "      <td>Opera/9.56.(X11; Linux x86_64; sl-SI) Presto/2...</td>\n",
              "      <td>Martinez-Herman</td>\n",
              "      <td>6011929061123406</td>\n",
              "      <td>2020-02-01</td>\n",
              "      <td>900</td>\n",
              "      <td>JCB 16 digit</td>\n",
              "      <td>pdunlap@yahoo.com</td>\n",
              "      <td>Scientist, product/process development</td>\n",
              "      <td>149.146.147.205</td>\n",
              "      <td>el</td>\n",
              "      <td>98.14</td>\n",
              "      <td>yahoo.com</td>\n",
              "    </tr>\n",
              "  </tbody>\n",
              "</table>\n",
              "</div>\n",
              "    <div class=\"colab-df-buttons\">\n",
              "\n",
              "  <div class=\"colab-df-container\">\n",
              "    <button class=\"colab-df-convert\" onclick=\"convertToInteractive('df-c5915436-7be5-4187-8e62-67c6c86c4ca1')\"\n",
              "            title=\"Convert this dataframe to an interactive table.\"\n",
              "            style=\"display:none;\">\n",
              "\n",
              "  <svg xmlns=\"http://www.w3.org/2000/svg\" height=\"24px\" viewBox=\"0 -960 960 960\">\n",
              "    <path d=\"M120-120v-720h720v720H120Zm60-500h600v-160H180v160Zm220 220h160v-160H400v160Zm0 220h160v-160H400v160ZM180-400h160v-160H180v160Zm440 0h160v-160H620v160ZM180-180h160v-160H180v160Zm440 0h160v-160H620v160Z\"/>\n",
              "  </svg>\n",
              "    </button>\n",
              "\n",
              "  <style>\n",
              "    .colab-df-container {\n",
              "      display:flex;\n",
              "      gap: 12px;\n",
              "    }\n",
              "\n",
              "    .colab-df-convert {\n",
              "      background-color: #E8F0FE;\n",
              "      border: none;\n",
              "      border-radius: 50%;\n",
              "      cursor: pointer;\n",
              "      display: none;\n",
              "      fill: #1967D2;\n",
              "      height: 32px;\n",
              "      padding: 0 0 0 0;\n",
              "      width: 32px;\n",
              "    }\n",
              "\n",
              "    .colab-df-convert:hover {\n",
              "      background-color: #E2EBFA;\n",
              "      box-shadow: 0px 1px 2px rgba(60, 64, 67, 0.3), 0px 1px 3px 1px rgba(60, 64, 67, 0.15);\n",
              "      fill: #174EA6;\n",
              "    }\n",
              "\n",
              "    .colab-df-buttons div {\n",
              "      margin-bottom: 4px;\n",
              "    }\n",
              "\n",
              "    [theme=dark] .colab-df-convert {\n",
              "      background-color: #3B4455;\n",
              "      fill: #D2E3FC;\n",
              "    }\n",
              "\n",
              "    [theme=dark] .colab-df-convert:hover {\n",
              "      background-color: #434B5C;\n",
              "      box-shadow: 0px 1px 3px 1px rgba(0, 0, 0, 0.15);\n",
              "      filter: drop-shadow(0px 1px 2px rgba(0, 0, 0, 0.3));\n",
              "      fill: #FFFFFF;\n",
              "    }\n",
              "  </style>\n",
              "\n",
              "    <script>\n",
              "      const buttonEl =\n",
              "        document.querySelector('#df-c5915436-7be5-4187-8e62-67c6c86c4ca1 button.colab-df-convert');\n",
              "      buttonEl.style.display =\n",
              "        google.colab.kernel.accessAllowed ? 'block' : 'none';\n",
              "\n",
              "      async function convertToInteractive(key) {\n",
              "        const element = document.querySelector('#df-c5915436-7be5-4187-8e62-67c6c86c4ca1');\n",
              "        const dataTable =\n",
              "          await google.colab.kernel.invokeFunction('convertToInteractive',\n",
              "                                                    [key], {});\n",
              "        if (!dataTable) return;\n",
              "\n",
              "        const docLinkHtml = 'Like what you see? Visit the ' +\n",
              "          '<a target=\"_blank\" href=https://colab.research.google.com/notebooks/data_table.ipynb>data table notebook</a>'\n",
              "          + ' to learn more about interactive tables.';\n",
              "        element.innerHTML = '';\n",
              "        dataTable['output_type'] = 'display_data';\n",
              "        await google.colab.output.renderOutput(dataTable, element);\n",
              "        const docLink = document.createElement('div');\n",
              "        docLink.innerHTML = docLinkHtml;\n",
              "        element.appendChild(docLink);\n",
              "      }\n",
              "    </script>\n",
              "  </div>\n",
              "\n",
              "\n",
              "    </div>\n",
              "  </div>\n"
            ],
            "application/vnd.google.colaboratory.intrinsic+json": {
              "type": "dataframe",
              "variable_name": "df",
              "summary": "{\n  \"name\": \"df\",\n  \"rows\": 10000,\n  \"fields\": [\n    {\n      \"column\": \"Address\",\n      \"properties\": {\n        \"dtype\": \"string\",\n        \"num_unique_values\": 10000,\n        \"samples\": [\n          \"1606 Martin Roads Apt. 575\\nLake Bradleymouth, GU 86537-3756\",\n          \"8859 Jackson Motorway Suite 400\\nEast Samanthaland, DE 40105-9834\",\n          \"392 Andrew Loaf Suite 571\\nSouth Karen, GU 04082\"\n        ],\n        \"semantic_type\": \"\",\n        \"description\": \"\"\n      }\n    },\n    {\n      \"column\": \"Lot\",\n      \"properties\": {\n        \"dtype\": \"string\",\n        \"num_unique_values\": 9822,\n        \"samples\": [\n          \"60 uq\",\n          \"14 FY\",\n          \"54 iF\"\n        ],\n        \"semantic_type\": \"\",\n        \"description\": \"\"\n      }\n    },\n    {\n      \"column\": \"AM or PM\",\n      \"properties\": {\n        \"dtype\": \"category\",\n        \"num_unique_values\": 2,\n        \"samples\": [\n          \"AM\",\n          \"PM\"\n        ],\n        \"semantic_type\": \"\",\n        \"description\": \"\"\n      }\n    },\n    {\n      \"column\": \"Browser Info\",\n      \"properties\": {\n        \"dtype\": \"string\",\n        \"num_unique_values\": 8287,\n        \"samples\": [\n          \"Mozilla/5.0 (Macintosh; U; PPC Mac OS X 10_8_1 rv:2.0; en-US) AppleWebKit/534.29.5 (KHTML, like Gecko) Version/4.1 Safari/534.29.5\",\n          \"Mozilla/5.0 (Windows NT 4.0) AppleWebKit/5332 (KHTML, like Gecko) Chrome/14.0.891.0 Safari/5332\"\n        ],\n        \"semantic_type\": \"\",\n        \"description\": \"\"\n      }\n    },\n    {\n      \"column\": \"Company\",\n      \"properties\": {\n        \"dtype\": \"string\",\n        \"num_unique_values\": 8653,\n        \"samples\": [\n          \"Richards-Steele\",\n          \"Forbes, Orozco and Ellis\"\n        ],\n        \"semantic_type\": \"\",\n        \"description\": \"\"\n      }\n    },\n    {\n      \"column\": \"Credit Card\",\n      \"properties\": {\n        \"dtype\": \"number\",\n        \"std\": 2256102885223829,\n        \"min\": 60401860543,\n        \"max\": 6011999761615928,\n        \"num_unique_values\": 10000,\n        \"samples\": [\n          3528401718511980,\n          501814809031\n        ],\n        \"semantic_type\": \"\",\n        \"description\": \"\"\n      }\n    },\n    {\n      \"column\": \"CC Exp Date\",\n      \"properties\": {\n        \"dtype\": \"date\",\n        \"min\": \"2016-08-01 00:00:00\",\n        \"max\": \"2026-08-01 00:00:00\",\n        \"num_unique_values\": 121,\n        \"samples\": [\n          \"2023-11-01 00:00:00\",\n          \"2024-01-01 00:00:00\"\n        ],\n        \"semantic_type\": \"\",\n        \"description\": \"\"\n      }\n    },\n    {\n      \"column\": \"CC Security Code\",\n      \"properties\": {\n        \"dtype\": \"number\",\n        \"std\": 1589,\n        \"min\": 0,\n        \"max\": 9993,\n        \"num_unique_values\": 1758,\n        \"samples\": [\n          541,\n          341\n        ],\n        \"semantic_type\": \"\",\n        \"description\": \"\"\n      }\n    },\n    {\n      \"column\": \"CC Provider\",\n      \"properties\": {\n        \"dtype\": \"category\",\n        \"num_unique_values\": 10,\n        \"samples\": [\n          \"JCB 15 digit\",\n          \"Mastercard\"\n        ],\n        \"semantic_type\": \"\",\n        \"description\": \"\"\n      }\n    },\n    {\n      \"column\": \"Email\",\n      \"properties\": {\n        \"dtype\": \"string\",\n        \"num_unique_values\": 9954,\n        \"samples\": [\n          \"matthewwade@mcintyre.info\",\n          \"olsonscott@yahoo.com\"\n        ],\n        \"semantic_type\": \"\",\n        \"description\": \"\"\n      }\n    },\n    {\n      \"column\": \"Job\",\n      \"properties\": {\n        \"dtype\": \"category\",\n        \"num_unique_values\": 623,\n        \"samples\": [\n          \"Engineer, structural\",\n          \"Programmer, applications\"\n        ],\n        \"semantic_type\": \"\",\n        \"description\": \"\"\n      }\n    },\n    {\n      \"column\": \"IP Address\",\n      \"properties\": {\n        \"dtype\": \"string\",\n        \"num_unique_values\": 10000,\n        \"samples\": [\n          \"30.49.135.47\",\n          \"165.76.105.181\"\n        ],\n        \"semantic_type\": \"\",\n        \"description\": \"\"\n      }\n    },\n    {\n      \"column\": \"Language\",\n      \"properties\": {\n        \"dtype\": \"category\",\n        \"num_unique_values\": 9,\n        \"samples\": [\n          \"en\",\n          \"fr\"\n        ],\n        \"semantic_type\": \"\",\n        \"description\": \"\"\n      }\n    },\n    {\n      \"column\": \"Purchase Price\",\n      \"properties\": {\n        \"dtype\": \"number\",\n        \"std\": 29.01583630978903,\n        \"min\": 0.0,\n        \"max\": 99.99,\n        \"num_unique_values\": 6349,\n        \"samples\": [\n          8.61,\n          0.21\n        ],\n        \"semantic_type\": \"\",\n        \"description\": \"\"\n      }\n    },\n    {\n      \"column\": \"temp\",\n      \"properties\": {\n        \"dtype\": \"category\",\n        \"num_unique_values\": 3416,\n        \"samples\": [\n          \"villa-white.info\",\n          \"harris-wall.org\"\n        ],\n        \"semantic_type\": \"\",\n        \"description\": \"\"\n      }\n    }\n  ]\n}"
            }
          },
          "metadata": {},
          "execution_count": 116
        }
      ]
    },
    {
      "cell_type": "code",
      "source": [
        "# High-value customers based on purchase history\n",
        "high_value_customers = df.groupby('Email')['Purchase Price'].sum().sort_values(ascending=False).head(10)\n",
        "print(\"High-Value Customers:\\n\", high_value_customers)"
      ],
      "metadata": {
        "colab": {
          "base_uri": "https://localhost:8080/"
        },
        "id": "3tbDb7ItXvhZ",
        "outputId": "7cc5a2e7-d913-4428-b684-b839afeaebda"
      },
      "execution_count": 117,
      "outputs": [
        {
          "output_type": "stream",
          "name": "stdout",
          "text": [
            "High-Value Customers:\n",
            " Email\n",
            "brownsarah@gmail.com       198.83\n",
            "wjohnson@yahoo.com         175.61\n",
            "cgray@gmail.com            154.41\n",
            "lawrenceemily@yahoo.com    154.31\n",
            "wilsonjohn@yahoo.com       153.36\n",
            "znguyen@gmail.com          144.73\n",
            "leekathy@yahoo.com         143.20\n",
            "edwardsjohn@gmail.com      142.60\n",
            "vrodriguez@hotmail.com     142.01\n",
            "ozimmerman@yahoo.com       140.65\n",
            "Name: Purchase Price, dtype: float64\n"
          ]
        }
      ]
    },
    {
      "cell_type": "code",
      "source": [],
      "metadata": {
        "id": "OkU8I-Rya5rq"
      },
      "execution_count": null,
      "outputs": []
    },
    {
      "cell_type": "markdown",
      "source": [
        "# **Step 9: Geographical Analysis**"
      ],
      "metadata": {
        "id": "efNXV4xZa6bH"
      }
    },
    {
      "cell_type": "markdown",
      "source": [
        "### **1.Browser and Device Analysis**"
      ],
      "metadata": {
        "id": "VizAWtujgh6s"
      }
    },
    {
      "cell_type": "code",
      "source": [
        "# Most commonly used browsers\n",
        "common_browsers = df['Browser Info'].value_counts()\n",
        "print(\"Common Browsers:\\n\", common_browsers)\n"
      ],
      "metadata": {
        "colab": {
          "base_uri": "https://localhost:8080/"
        },
        "id": "7OGFrvstbBeI",
        "outputId": "d6b50943-6e4e-430a-90de-b64918942311"
      },
      "execution_count": 124,
      "outputs": [
        {
          "output_type": "stream",
          "name": "stdout",
          "text": [
            "Common Browsers:\n",
            " Browser Info\n",
            "Mozilla/5.0 (compatible; MSIE 9.0; Windows CE; Trident/4.1)                                              12\n",
            "Mozilla/5.0 (compatible; MSIE 8.0; Windows NT 6.2; Trident/3.1)                                          12\n",
            "Mozilla/5.0 (compatible; MSIE 5.0; Windows NT 6.0; Trident/3.0)                                          12\n",
            "Mozilla/5.0 (compatible; MSIE 9.0; Windows 95; Trident/4.1)                                              12\n",
            "Mozilla/5.0 (compatible; MSIE 9.0; Windows NT 5.01; Trident/5.0)                                         11\n",
            "                                                                                                         ..\n",
            "Mozilla/5.0 (Macintosh; U; PPC Mac OS X 10_8_8; rv:1.9.2.20) Gecko/2011-03-12 21:41:52 Firefox/3.8        1\n",
            "Mozilla/5.0 (Macintosh; PPC Mac OS X 10_6_3; rv:1.9.5.20) Gecko/2015-11-16 20:25:11 Firefox/3.8           1\n",
            "Mozilla/5.0 (Macintosh; U; Intel Mac OS X 10_7_0; rv:1.9.3.20) Gecko/2014-06-23 08:23:10 Firefox/5.0      1\n",
            "Mozilla/5.0 (Macintosh; U; PPC Mac OS X 10_6_7; rv:1.9.2.20) Gecko/2010-05-28 03:11:20 Firefox/3.6.18     1\n",
            "Mozilla/5.0 (X11; Linux i686; rv:1.9.5.20) Gecko/2013-11-22 09:05:00 Firefox/3.6.11                       1\n",
            "Name: count, Length: 8287, dtype: int64\n"
          ]
        },
        {
          "output_type": "execute_result",
          "data": {
            "text/plain": [
              "8287"
            ]
          },
          "metadata": {},
          "execution_count": 124
        }
      ]
    },
    {
      "cell_type": "code",
      "source": [
        "# Purchase behavior based on browser information\n",
        "browser_price_trends = df.groupby('Browser Info')['Purchase Price'].mean().sort_values(ascending=False)\n",
        "print(\"Browser Price Trends:\\n\", browser_price_trends.head(5))\n"
      ],
      "metadata": {
        "colab": {
          "base_uri": "https://localhost:8080/"
        },
        "id": "pTZ57bM5bwcO",
        "outputId": "39ff9e1a-13d7-40c0-cef7-93e71592f089"
      },
      "execution_count": 131,
      "outputs": [
        {
          "output_type": "stream",
          "name": "stdout",
          "text": [
            "Browser Price Trends:\n",
            " Browser Info\n",
            "Mozilla/5.0 (Macintosh; Intel Mac OS X 10_5_4) AppleWebKit/5332 (KHTML, like Gecko) Chrome/15.0.808.0 Safari/5332     99.99\n",
            "Mozilla/5.0 (X11; Linux x86_64) AppleWebKit/5352 (KHTML, like Gecko) Chrome/13.0.806.0 Safari/5352                    99.99\n",
            "Mozilla/5.0 (Windows NT 5.0) AppleWebKit/5360 (KHTML, like Gecko) Chrome/15.0.833.0 Safari/5360                       99.97\n",
            "Mozilla/5.0 (Windows 98; Win 9x 4.90; it-IT; rv:1.9.2.20) Gecko/2014-11-12 05:45:57 Firefox/5.0                       99.95\n",
            "Mozilla/5.0 (Macintosh; U; PPC Mac OS X 10_6_8) AppleWebKit/5331 (KHTML, like Gecko) Chrome/15.0.882.0 Safari/5331    99.91\n",
            "Name: Purchase Price, dtype: float64\n"
          ]
        }
      ]
    },
    {
      "cell_type": "code",
      "source": [
        "len('browser_price_trends')"
      ],
      "metadata": {
        "colab": {
          "base_uri": "https://localhost:8080/"
        },
        "id": "ME4MupQ7clbc",
        "outputId": "3bd90d6d-8e18-4629-90f5-eb7829716780"
      },
      "execution_count": 130,
      "outputs": [
        {
          "output_type": "execute_result",
          "data": {
            "text/plain": [
              "20"
            ]
          },
          "metadata": {},
          "execution_count": 130
        }
      ]
    },
    {
      "cell_type": "markdown",
      "source": [
        "### **2.Customer Locations**"
      ],
      "metadata": {
        "id": "UCXV6ODdguPf"
      }
    },
    {
      "cell_type": "code",
      "source": [
        "# Extract state or city from the address if possible (assuming addresses contain state or city information)\n",
        "df['State/City'] = df['Address'].apply(lambda x: x.split(',')[-1].strip())\n",
        "print(\"State/City:\\n\", df['State/City'].value_counts())\n"
      ],
      "metadata": {
        "colab": {
          "base_uri": "https://localhost:8080/"
        },
        "id": "hnHpatdTcm6N",
        "outputId": "f7e53cd7-a03f-4462-c94e-2c99bf8093d0"
      },
      "execution_count": 143,
      "outputs": [
        {
          "output_type": "stream",
          "name": "stdout",
          "text": [
            "State/City:\n",
            " State/City\n",
            "MN 14905                       2\n",
            "WY 69967-8132                  1\n",
            "CA 15381                       1\n",
            "NV 42823                       1\n",
            "Box 2041\\nAPO AP 04262-3351    1\n",
            "                              ..\n",
            "WI 47836                       1\n",
            "NV 77543-3455                  1\n",
            "TN 53892                       1\n",
            "OK 15944-7373                  1\n",
            "WI 79682                       1\n",
            "Name: count, Length: 9999, dtype: int64\n"
          ]
        }
      ]
    },
    {
      "cell_type": "markdown",
      "source": [
        "# **Step 10: Revenue and Sales Metrics**"
      ],
      "metadata": {
        "id": "YZVs4rz0f9u3"
      }
    },
    {
      "cell_type": "code",
      "source": [
        "# Total revenue generated\n",
        "total_revenue = df['Purchase Price'].sum()\n",
        "print(\"Total Revenue:\\n\", total_revenue)\n",
        "\n",
        "# Average revenue per customer\n",
        "average_revenue_per_customer = df.groupby('Email')['Purchase Price'].sum().mean()\n",
        "print(\"Average Revenue per Customer:\\n\", average_revenue_per_customer)"
      ],
      "metadata": {
        "colab": {
          "base_uri": "https://localhost:8080/"
        },
        "id": "nvV190Kvf_Dt",
        "outputId": "13073f96-e133-4a98-83fb-3f78605574c5"
      },
      "execution_count": 133,
      "outputs": [
        {
          "output_type": "stream",
          "name": "stdout",
          "text": [
            "Total Revenue:\n",
            " 503473.02\n",
            "Average Revenue per Customer:\n",
            " 50.579969861362265\n"
          ]
        }
      ]
    },
    {
      "cell_type": "markdown",
      "source": [
        "# **Step 11: Cross-Analysis**"
      ],
      "metadata": {
        "id": "ISf5RK_gfh_8"
      }
    },
    {
      "cell_type": "code",
      "source": [
        "# Correlation between customer's job title and purchase price\n",
        "job_purchase_correlation = df[['Job', 'Purchase Price']].groupby('Job').mean().sort_values(by='Purchase Price', ascending=False)\n",
        "print(\"Job Purchase Correlation:\\n\", job_purchase_correlation)\n",
        "\n",
        "# Purchase price variation with location\n",
        "location_purchase_trends = df.groupby('Address')['Purchase Price'].mean().sort_values(ascending=False)\n",
        "print(\"Location Purchase Trends:\\n\", location_purchase_trends)\n",
        "\n",
        "# Patterns in browser usage correlating with purchase prices\n",
        "browser_purchase_correlation = df.groupby('Browser Info')['Purchase Price'].mean().sort_values(ascending=False)\n",
        "print(\"Browser Purchase Correlation:\\n\", browser_purchase_correlation)"
      ],
      "metadata": {
        "colab": {
          "base_uri": "https://localhost:8080/"
        },
        "id": "FrBemElhfwcw",
        "outputId": "28604f2b-f991-40c2-ccc1-508272d071fc"
      },
      "execution_count": 132,
      "outputs": [
        {
          "output_type": "stream",
          "name": "stdout",
          "text": [
            "Job Purchase Correlation:\n",
            "                                   Purchase Price\n",
            "Job                                             \n",
            "Trade mark attorney                    73.802727\n",
            "Translator                             70.777647\n",
            "Investment analyst                     69.090000\n",
            "Accountant, chartered management       69.082667\n",
            "Designer, industrial/product           68.714667\n",
            "...                                          ...\n",
            "Theatre stage manager                  31.580000\n",
            "Editor, magazine features              31.445294\n",
            "Engineer, production                   27.771667\n",
            "Art gallery manager                    27.381250\n",
            "Marketing executive                    26.008889\n",
            "\n",
            "[623 rows x 1 columns]\n",
            "Location Purchase Trends:\n",
            " Address\n",
            "PSC 6177, Box 1004\\nAPO AA 57143-1269                    99.99\n",
            "63773 Shelton Greens\\nAshleyton, MA 00493                99.99\n",
            "058 Miranda Locks Suite 792\\nPort Davidstad, PA 87162    99.97\n",
            "672 James Oval\\nNew Davidview, KS 91202                  99.95\n",
            "27148 Kathy Cliff Apt. 400\\nEast Jillton, TX 55647       99.93\n",
            "                                                         ...  \n",
            "146 Laura Mission\\nNorth Donald, NC 76608                 0.02\n",
            "402 Joseph Tunnel Apt. 219\\nMartinmouth, DE 58480         0.02\n",
            "9202 Baker Forks\\nNew Chelseaborough, VA 70852            0.01\n",
            "465 Mallory Ways\\nNorth Rebecca, RI 82734-1160            0.00\n",
            "332 Jones Parkways\\nEast Katherineville, GA 64230         0.00\n",
            "Name: Purchase Price, Length: 10000, dtype: float64\n",
            "Browser Purchase Correlation:\n",
            " Browser Info\n",
            "Mozilla/5.0 (Macintosh; Intel Mac OS X 10_5_4) AppleWebKit/5332 (KHTML, like Gecko) Chrome/15.0.808.0 Safari/5332                                   99.99\n",
            "Mozilla/5.0 (X11; Linux x86_64) AppleWebKit/5352 (KHTML, like Gecko) Chrome/13.0.806.0 Safari/5352                                                  99.99\n",
            "Mozilla/5.0 (Windows NT 5.0) AppleWebKit/5360 (KHTML, like Gecko) Chrome/15.0.833.0 Safari/5360                                                     99.97\n",
            "Mozilla/5.0 (Windows 98; Win 9x 4.90; it-IT; rv:1.9.2.20) Gecko/2014-11-12 05:45:57 Firefox/5.0                                                     99.95\n",
            "Mozilla/5.0 (Macintosh; U; PPC Mac OS X 10_6_8) AppleWebKit/5331 (KHTML, like Gecko) Chrome/15.0.882.0 Safari/5331                                  99.91\n",
            "                                                                                                                                                    ...  \n",
            "Mozilla/5.0 (Macintosh; Intel Mac OS X 10_7_2 rv:3.0; it-IT) AppleWebKit/533.40.4 (KHTML, like Gecko) Version/5.0 Safari/533.40.4                    0.02\n",
            "Mozilla/5.0 (Macintosh; U; Intel Mac OS X 10_7_3; rv:1.9.2.20) Gecko/2015-07-11 16:14:30 Firefox/3.8                                                 0.02\n",
            "Mozilla/5.0 (iPod; U; CPU iPhone OS 3_3 like Mac OS X; en-US) AppleWebKit/533.6.2 (KHTML, like Gecko) Version/4.0.5 Mobile/8B118 Safari/6533.6.2     0.01\n",
            "Mozilla/5.0 (X11; Linux i686; rv:1.9.6.20) Gecko/2015-12-05 23:24:26 Firefox/9.0                                                                     0.00\n",
            "Mozilla/5.0 (Macintosh; U; PPC Mac OS X 10_6_9 rv:3.0; en-US) AppleWebKit/534.24.3 (KHTML, like Gecko) Version/5.0.5 Safari/534.24.3                 0.00\n",
            "Name: Purchase Price, Length: 8287, dtype: float64\n"
          ]
        }
      ]
    },
    {
      "cell_type": "markdown",
      "source": [
        "# **Conclusion**\n",
        "This project aims to harness the power of data to unlock valuable insights into e-commerce operations. By understanding customer preferences, optimizing marketing efforts, and ensuring data integrity, businesses can make informed decisions that drive growth and foster long-term success in the competitive e-commerce landscape."
      ],
      "metadata": {
        "id": "rsIHAwaskrWp"
      }
    }
  ]
}